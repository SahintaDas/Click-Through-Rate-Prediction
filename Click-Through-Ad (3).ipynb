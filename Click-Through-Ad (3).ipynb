{
 "cells": [
  {
   "cell_type": "markdown",
   "id": "596128af-5a92-4348-b900-e36eb07818db",
   "metadata": {},
   "source": [
    "# Click-Through Rate Prediction"
   ]
  },
  {
   "cell_type": "markdown",
   "id": "1831f9f5-e7b0-4cf4-9e66-0d4f65c92f4d",
   "metadata": {},
   "source": [
    "Data Source: https://www.kaggle.com/datasets/swekerr/click-through-rate-prediction\n",
    "Click-Through Rate is calculated as the number of clicks an ad receives divided by the number of times the ad is shown (impressions), expressed as a percentage. The CTR prediction task involves modeling the likelihood of a click based on ad characteristics, user profile data, and contextual features.\n",
    "\n",
    "Predicting the click-through Rate (CTR) is crucial for optimizing online advertising campaigns. By accurately estimating the likelihood of a user clicking on an ad, businesses can make informed decisions about ad placement and design, ultimately maximizing their return on investment (ROI)."
   ]
  },
  {
   "cell_type": "code",
   "execution_count": 78,
   "id": "66eeb677-36e6-4e92-81d5-44ea182fee41",
   "metadata": {},
   "outputs": [],
   "source": [
    "# Supressing the warning messages\n",
    "import warnings\n",
    "warnings.filterwarnings('ignore')"
   ]
  },
  {
   "cell_type": "code",
   "execution_count": 79,
   "id": "4b8fefc6-2d32-4cb5-b119-0e7c08da1fa5",
   "metadata": {},
   "outputs": [
    {
     "name": "stdout",
     "output_type": "stream",
     "text": [
      "Shape before deleting duplicate values: (10000, 10)\n",
      "Shape After deleting duplicate values: (9785, 10)\n"
     ]
    },
    {
     "data": {
      "text/html": [
       "<div>\n",
       "<style scoped>\n",
       "    .dataframe tbody tr th:only-of-type {\n",
       "        vertical-align: middle;\n",
       "    }\n",
       "\n",
       "    .dataframe tbody tr th {\n",
       "        vertical-align: top;\n",
       "    }\n",
       "\n",
       "    .dataframe thead th {\n",
       "        text-align: right;\n",
       "    }\n",
       "</style>\n",
       "<table border=\"1\" class=\"dataframe\">\n",
       "  <thead>\n",
       "    <tr style=\"text-align: right;\">\n",
       "      <th></th>\n",
       "      <th>Daily Time Spent on Site</th>\n",
       "      <th>Age</th>\n",
       "      <th>Area Income</th>\n",
       "      <th>Daily Internet Usage</th>\n",
       "      <th>Ad Topic Line</th>\n",
       "      <th>City</th>\n",
       "      <th>Gender</th>\n",
       "      <th>Country</th>\n",
       "      <th>Timestamp</th>\n",
       "      <th>Clicked on Ad</th>\n",
       "    </tr>\n",
       "  </thead>\n",
       "  <tbody>\n",
       "    <tr>\n",
       "      <th>0</th>\n",
       "      <td>62.26</td>\n",
       "      <td>32.0</td>\n",
       "      <td>69481.85</td>\n",
       "      <td>172.83</td>\n",
       "      <td>Decentralized real-time circuit</td>\n",
       "      <td>Lisafort</td>\n",
       "      <td>Male</td>\n",
       "      <td>Svalbard &amp; Jan Mayen Islands</td>\n",
       "      <td>2016-06-09 21:43:05</td>\n",
       "      <td>0</td>\n",
       "    </tr>\n",
       "    <tr>\n",
       "      <th>1</th>\n",
       "      <td>41.73</td>\n",
       "      <td>31.0</td>\n",
       "      <td>61840.26</td>\n",
       "      <td>207.17</td>\n",
       "      <td>Optional full-range projection</td>\n",
       "      <td>West Angelabury</td>\n",
       "      <td>Male</td>\n",
       "      <td>Singapore</td>\n",
       "      <td>2016-01-16 17:56:05</td>\n",
       "      <td>0</td>\n",
       "    </tr>\n",
       "    <tr>\n",
       "      <th>2</th>\n",
       "      <td>44.40</td>\n",
       "      <td>30.0</td>\n",
       "      <td>57877.15</td>\n",
       "      <td>172.83</td>\n",
       "      <td>Total 5thgeneration standardization</td>\n",
       "      <td>Reyesfurt</td>\n",
       "      <td>Female</td>\n",
       "      <td>Guadeloupe</td>\n",
       "      <td>2016-06-29 10:50:45</td>\n",
       "      <td>0</td>\n",
       "    </tr>\n",
       "    <tr>\n",
       "      <th>3</th>\n",
       "      <td>59.88</td>\n",
       "      <td>28.0</td>\n",
       "      <td>56180.93</td>\n",
       "      <td>207.17</td>\n",
       "      <td>Balanced empowering success</td>\n",
       "      <td>New Michael</td>\n",
       "      <td>Female</td>\n",
       "      <td>Zambia</td>\n",
       "      <td>2016-06-21 14:32:32</td>\n",
       "      <td>0</td>\n",
       "    </tr>\n",
       "    <tr>\n",
       "      <th>4</th>\n",
       "      <td>49.21</td>\n",
       "      <td>30.0</td>\n",
       "      <td>54324.73</td>\n",
       "      <td>201.58</td>\n",
       "      <td>Total 5thgeneration standardization</td>\n",
       "      <td>West Richard</td>\n",
       "      <td>Female</td>\n",
       "      <td>Qatar</td>\n",
       "      <td>2016-07-21 10:54:35</td>\n",
       "      <td>1</td>\n",
       "    </tr>\n",
       "    <tr>\n",
       "      <th>5</th>\n",
       "      <td>51.30</td>\n",
       "      <td>26.0</td>\n",
       "      <td>51463.17</td>\n",
       "      <td>131.68</td>\n",
       "      <td>Focused multi-state workforce</td>\n",
       "      <td>Port Maria</td>\n",
       "      <td>Female</td>\n",
       "      <td>Cameroon</td>\n",
       "      <td>2016-05-15 13:18:34</td>\n",
       "      <td>0</td>\n",
       "    </tr>\n",
       "    <tr>\n",
       "      <th>6</th>\n",
       "      <td>66.08</td>\n",
       "      <td>43.0</td>\n",
       "      <td>73538.09</td>\n",
       "      <td>136.40</td>\n",
       "      <td>Optimized upward-trending productivity</td>\n",
       "      <td>Port Jeffrey</td>\n",
       "      <td>Male</td>\n",
       "      <td>Turkey</td>\n",
       "      <td>2016-04-03 21:13:46</td>\n",
       "      <td>1</td>\n",
       "    </tr>\n",
       "    <tr>\n",
       "      <th>7</th>\n",
       "      <td>36.08</td>\n",
       "      <td>26.0</td>\n",
       "      <td>74903.41</td>\n",
       "      <td>228.78</td>\n",
       "      <td>Programmable uniform website</td>\n",
       "      <td>East Kevinbury</td>\n",
       "      <td>Male</td>\n",
       "      <td>French Guiana</td>\n",
       "      <td>2016-03-11 06:49:10</td>\n",
       "      <td>0</td>\n",
       "    </tr>\n",
       "    <tr>\n",
       "      <th>8</th>\n",
       "      <td>46.14</td>\n",
       "      <td>33.0</td>\n",
       "      <td>43974.49</td>\n",
       "      <td>196.77</td>\n",
       "      <td>Customizable tangible hierarchy</td>\n",
       "      <td>Lake Annashire</td>\n",
       "      <td>Male</td>\n",
       "      <td>Vanuatu</td>\n",
       "      <td>2016-03-24 06:36:52</td>\n",
       "      <td>0</td>\n",
       "    </tr>\n",
       "    <tr>\n",
       "      <th>9</th>\n",
       "      <td>51.65</td>\n",
       "      <td>51.0</td>\n",
       "      <td>74535.94</td>\n",
       "      <td>188.56</td>\n",
       "      <td>Function-based incremental standardization</td>\n",
       "      <td>Edwardmouth</td>\n",
       "      <td>Female</td>\n",
       "      <td>Cameroon</td>\n",
       "      <td>2016-01-31 05:12:44</td>\n",
       "      <td>0</td>\n",
       "    </tr>\n",
       "  </tbody>\n",
       "</table>\n",
       "</div>"
      ],
      "text/plain": [
       "   Daily Time Spent on Site   Age  Area Income  Daily Internet Usage  \\\n",
       "0                     62.26  32.0     69481.85                172.83   \n",
       "1                     41.73  31.0     61840.26                207.17   \n",
       "2                     44.40  30.0     57877.15                172.83   \n",
       "3                     59.88  28.0     56180.93                207.17   \n",
       "4                     49.21  30.0     54324.73                201.58   \n",
       "5                     51.30  26.0     51463.17                131.68   \n",
       "6                     66.08  43.0     73538.09                136.40   \n",
       "7                     36.08  26.0     74903.41                228.78   \n",
       "8                     46.14  33.0     43974.49                196.77   \n",
       "9                     51.65  51.0     74535.94                188.56   \n",
       "\n",
       "                                Ad Topic Line             City  Gender  \\\n",
       "0             Decentralized real-time circuit         Lisafort    Male   \n",
       "1              Optional full-range projection  West Angelabury    Male   \n",
       "2         Total 5thgeneration standardization        Reyesfurt  Female   \n",
       "3                 Balanced empowering success      New Michael  Female   \n",
       "4         Total 5thgeneration standardization     West Richard  Female   \n",
       "5               Focused multi-state workforce       Port Maria  Female   \n",
       "6      Optimized upward-trending productivity     Port Jeffrey    Male   \n",
       "7                Programmable uniform website   East Kevinbury    Male   \n",
       "8             Customizable tangible hierarchy   Lake Annashire    Male   \n",
       "9  Function-based incremental standardization      Edwardmouth  Female   \n",
       "\n",
       "                        Country            Timestamp  Clicked on Ad  \n",
       "0  Svalbard & Jan Mayen Islands  2016-06-09 21:43:05              0  \n",
       "1                     Singapore  2016-01-16 17:56:05              0  \n",
       "2                    Guadeloupe  2016-06-29 10:50:45              0  \n",
       "3                        Zambia  2016-06-21 14:32:32              0  \n",
       "4                         Qatar  2016-07-21 10:54:35              1  \n",
       "5                      Cameroon  2016-05-15 13:18:34              0  \n",
       "6                        Turkey  2016-04-03 21:13:46              1  \n",
       "7                 French Guiana  2016-03-11 06:49:10              0  \n",
       "8                       Vanuatu  2016-03-24 06:36:52              0  \n",
       "9                      Cameroon  2016-01-31 05:12:44              0  "
      ]
     },
     "execution_count": 79,
     "metadata": {},
     "output_type": "execute_result"
    }
   ],
   "source": [
    "# Reading the dataset\n",
    "import pandas as pd\n",
    "import numpy as np\n",
    "AdData=pd.read_csv('D:/ivy/datasets/click.csv')\n",
    "print('Shape before deleting duplicate values:', AdData.shape)\n",
    "\n",
    "# Removing duplicate rows if any\n",
    "AdData=AdData.drop_duplicates()\n",
    "print('Shape After deleting duplicate values:', AdData.shape)\n",
    "\n",
    "# Printing sample data\n",
    "# Start observing the Quantitative/Categorical/Qualitative variables\n",
    "AdData.head(10)"
   ]
  },
  {
   "cell_type": "markdown",
   "id": "f391a887-4d08-4de1-8a86-eff13c56d771",
   "metadata": {},
   "source": [
    "# Basic Data Exploration\n",
    "There are four commands which are used for Basic data exploration in Python\n",
    "\n",
    "head() : This helps to see a few sample rows of the data\n",
    "info() : This provides the summarized information of the data\n",
    "describe() : This provides the descriptive statistical details of the data\n",
    "nunique(): This helps us to identify if a column is categorical or continuous"
   ]
  },
  {
   "cell_type": "code",
   "execution_count": 80,
   "id": "e8765693-5586-4b14-a225-2299073df0ee",
   "metadata": {},
   "outputs": [
    {
     "name": "stdout",
     "output_type": "stream",
     "text": [
      "<class 'pandas.core.frame.DataFrame'>\n",
      "Index: 9785 entries, 0 to 9998\n",
      "Data columns (total 10 columns):\n",
      " #   Column                    Non-Null Count  Dtype  \n",
      "---  ------                    --------------  -----  \n",
      " 0   Daily Time Spent on Site  9785 non-null   float64\n",
      " 1   Age                       9785 non-null   float64\n",
      " 2   Area Income               9785 non-null   float64\n",
      " 3   Daily Internet Usage      9785 non-null   float64\n",
      " 4   Ad Topic Line             9785 non-null   object \n",
      " 5   City                      9785 non-null   object \n",
      " 6   Gender                    9785 non-null   object \n",
      " 7   Country                   9785 non-null   object \n",
      " 8   Timestamp                 9785 non-null   object \n",
      " 9   Clicked on Ad             9785 non-null   int64  \n",
      "dtypes: float64(4), int64(1), object(5)\n",
      "memory usage: 840.9+ KB\n"
     ]
    }
   ],
   "source": [
    "AdData.info()"
   ]
  },
  {
   "cell_type": "code",
   "execution_count": 81,
   "id": "8c39aaf8-ef6d-4e5f-a487-a0db20cc7834",
   "metadata": {},
   "outputs": [
    {
     "data": {
      "text/html": [
       "<div>\n",
       "<style scoped>\n",
       "    .dataframe tbody tr th:only-of-type {\n",
       "        vertical-align: middle;\n",
       "    }\n",
       "\n",
       "    .dataframe tbody tr th {\n",
       "        vertical-align: top;\n",
       "    }\n",
       "\n",
       "    .dataframe thead th {\n",
       "        text-align: right;\n",
       "    }\n",
       "</style>\n",
       "<table border=\"1\" class=\"dataframe\">\n",
       "  <thead>\n",
       "    <tr style=\"text-align: right;\">\n",
       "      <th></th>\n",
       "      <th>Daily Time Spent on Site</th>\n",
       "      <th>Age</th>\n",
       "      <th>Area Income</th>\n",
       "      <th>Daily Internet Usage</th>\n",
       "      <th>Ad Topic Line</th>\n",
       "      <th>City</th>\n",
       "      <th>Gender</th>\n",
       "      <th>Country</th>\n",
       "      <th>Timestamp</th>\n",
       "      <th>Clicked on Ad</th>\n",
       "    </tr>\n",
       "  </thead>\n",
       "  <tbody>\n",
       "    <tr>\n",
       "      <th>count</th>\n",
       "      <td>9785.000000</td>\n",
       "      <td>9785.000000</td>\n",
       "      <td>9785.000000</td>\n",
       "      <td>9785.000000</td>\n",
       "      <td>9785</td>\n",
       "      <td>9785</td>\n",
       "      <td>9785</td>\n",
       "      <td>9785</td>\n",
       "      <td>9785</td>\n",
       "      <td>9785.000000</td>\n",
       "    </tr>\n",
       "    <tr>\n",
       "      <th>unique</th>\n",
       "      <td>NaN</td>\n",
       "      <td>NaN</td>\n",
       "      <td>NaN</td>\n",
       "      <td>NaN</td>\n",
       "      <td>559</td>\n",
       "      <td>521</td>\n",
       "      <td>2</td>\n",
       "      <td>207</td>\n",
       "      <td>567</td>\n",
       "      <td>NaN</td>\n",
       "    </tr>\n",
       "    <tr>\n",
       "      <th>top</th>\n",
       "      <td>NaN</td>\n",
       "      <td>NaN</td>\n",
       "      <td>NaN</td>\n",
       "      <td>NaN</td>\n",
       "      <td>Cloned explicit middleware</td>\n",
       "      <td>Hubbardmouth</td>\n",
       "      <td>Female</td>\n",
       "      <td>Australia</td>\n",
       "      <td>2016-07-03 04:11:40</td>\n",
       "      <td>NaN</td>\n",
       "    </tr>\n",
       "    <tr>\n",
       "      <th>freq</th>\n",
       "      <td>NaN</td>\n",
       "      <td>NaN</td>\n",
       "      <td>NaN</td>\n",
       "      <td>NaN</td>\n",
       "      <td>323</td>\n",
       "      <td>330</td>\n",
       "      <td>5268</td>\n",
       "      <td>346</td>\n",
       "      <td>244</td>\n",
       "      <td>NaN</td>\n",
       "    </tr>\n",
       "    <tr>\n",
       "      <th>mean</th>\n",
       "      <td>61.601379</td>\n",
       "      <td>35.839550</td>\n",
       "      <td>53948.143348</td>\n",
       "      <td>177.886144</td>\n",
       "      <td>NaN</td>\n",
       "      <td>NaN</td>\n",
       "      <td>NaN</td>\n",
       "      <td>NaN</td>\n",
       "      <td>NaN</td>\n",
       "      <td>0.488605</td>\n",
       "    </tr>\n",
       "    <tr>\n",
       "      <th>std</th>\n",
       "      <td>15.698216</td>\n",
       "      <td>8.538524</td>\n",
       "      <td>13360.051625</td>\n",
       "      <td>40.861875</td>\n",
       "      <td>NaN</td>\n",
       "      <td>NaN</td>\n",
       "      <td>NaN</td>\n",
       "      <td>NaN</td>\n",
       "      <td>NaN</td>\n",
       "      <td>0.499896</td>\n",
       "    </tr>\n",
       "    <tr>\n",
       "      <th>min</th>\n",
       "      <td>32.600000</td>\n",
       "      <td>19.000000</td>\n",
       "      <td>13996.500000</td>\n",
       "      <td>105.220000</td>\n",
       "      <td>NaN</td>\n",
       "      <td>NaN</td>\n",
       "      <td>NaN</td>\n",
       "      <td>NaN</td>\n",
       "      <td>NaN</td>\n",
       "      <td>0.000000</td>\n",
       "    </tr>\n",
       "    <tr>\n",
       "      <th>25%</th>\n",
       "      <td>48.030000</td>\n",
       "      <td>29.000000</td>\n",
       "      <td>44174.250000</td>\n",
       "      <td>140.150000</td>\n",
       "      <td>NaN</td>\n",
       "      <td>NaN</td>\n",
       "      <td>NaN</td>\n",
       "      <td>NaN</td>\n",
       "      <td>NaN</td>\n",
       "      <td>0.000000</td>\n",
       "    </tr>\n",
       "    <tr>\n",
       "      <th>50%</th>\n",
       "      <td>59.590000</td>\n",
       "      <td>35.000000</td>\n",
       "      <td>56180.930000</td>\n",
       "      <td>178.920000</td>\n",
       "      <td>NaN</td>\n",
       "      <td>NaN</td>\n",
       "      <td>NaN</td>\n",
       "      <td>NaN</td>\n",
       "      <td>NaN</td>\n",
       "      <td>0.000000</td>\n",
       "    </tr>\n",
       "    <tr>\n",
       "      <th>75%</th>\n",
       "      <td>76.270000</td>\n",
       "      <td>41.000000</td>\n",
       "      <td>62669.590000</td>\n",
       "      <td>212.870000</td>\n",
       "      <td>NaN</td>\n",
       "      <td>NaN</td>\n",
       "      <td>NaN</td>\n",
       "      <td>NaN</td>\n",
       "      <td>NaN</td>\n",
       "      <td>1.000000</td>\n",
       "    </tr>\n",
       "    <tr>\n",
       "      <th>max</th>\n",
       "      <td>90.970000</td>\n",
       "      <td>60.000000</td>\n",
       "      <td>79332.330000</td>\n",
       "      <td>269.960000</td>\n",
       "      <td>NaN</td>\n",
       "      <td>NaN</td>\n",
       "      <td>NaN</td>\n",
       "      <td>NaN</td>\n",
       "      <td>NaN</td>\n",
       "      <td>1.000000</td>\n",
       "    </tr>\n",
       "  </tbody>\n",
       "</table>\n",
       "</div>"
      ],
      "text/plain": [
       "        Daily Time Spent on Site          Age   Area Income  \\\n",
       "count                9785.000000  9785.000000   9785.000000   \n",
       "unique                       NaN          NaN           NaN   \n",
       "top                          NaN          NaN           NaN   \n",
       "freq                         NaN          NaN           NaN   \n",
       "mean                   61.601379    35.839550  53948.143348   \n",
       "std                    15.698216     8.538524  13360.051625   \n",
       "min                    32.600000    19.000000  13996.500000   \n",
       "25%                    48.030000    29.000000  44174.250000   \n",
       "50%                    59.590000    35.000000  56180.930000   \n",
       "75%                    76.270000    41.000000  62669.590000   \n",
       "max                    90.970000    60.000000  79332.330000   \n",
       "\n",
       "        Daily Internet Usage               Ad Topic Line          City  \\\n",
       "count            9785.000000                        9785          9785   \n",
       "unique                   NaN                         559           521   \n",
       "top                      NaN  Cloned explicit middleware  Hubbardmouth   \n",
       "freq                     NaN                         323           330   \n",
       "mean              177.886144                         NaN           NaN   \n",
       "std                40.861875                         NaN           NaN   \n",
       "min               105.220000                         NaN           NaN   \n",
       "25%               140.150000                         NaN           NaN   \n",
       "50%               178.920000                         NaN           NaN   \n",
       "75%               212.870000                         NaN           NaN   \n",
       "max               269.960000                         NaN           NaN   \n",
       "\n",
       "        Gender    Country            Timestamp  Clicked on Ad  \n",
       "count     9785       9785                 9785    9785.000000  \n",
       "unique       2        207                  567            NaN  \n",
       "top     Female  Australia  2016-07-03 04:11:40            NaN  \n",
       "freq      5268        346                  244            NaN  \n",
       "mean       NaN        NaN                  NaN       0.488605  \n",
       "std        NaN        NaN                  NaN       0.499896  \n",
       "min        NaN        NaN                  NaN       0.000000  \n",
       "25%        NaN        NaN                  NaN       0.000000  \n",
       "50%        NaN        NaN                  NaN       0.000000  \n",
       "75%        NaN        NaN                  NaN       1.000000  \n",
       "max        NaN        NaN                  NaN       1.000000  "
      ]
     },
     "execution_count": 81,
     "metadata": {},
     "output_type": "execute_result"
    }
   ],
   "source": [
    "# Looking at the descriptive statistics of the data\n",
    "AdData.describe(include='all')"
   ]
  },
  {
   "cell_type": "code",
   "execution_count": 82,
   "id": "4e70ceef-7ebb-4f03-98df-acc97ec67dee",
   "metadata": {},
   "outputs": [
    {
     "data": {
      "text/plain": [
       "Daily Time Spent on Site    460\n",
       "Age                          39\n",
       "Area Income                 524\n",
       "Daily Internet Usage        505\n",
       "Ad Topic Line               559\n",
       "City                        521\n",
       "Gender                        2\n",
       "Country                     207\n",
       "Timestamp                   567\n",
       "Clicked on Ad                 2\n",
       "dtype: int64"
      ]
     },
     "execution_count": 82,
     "metadata": {},
     "output_type": "execute_result"
    }
   ],
   "source": [
    "# Finging unique values for each column\n",
    "# TO understand which column is categorical and which one is Continuous\n",
    "# Typically if the numer of unique values are < 20 then the variable is likely to be a category otherwise continuous\n",
    "AdData.nunique()"
   ]
  },
  {
   "cell_type": "markdown",
   "id": "9df096b4-d4a8-48df-af11-aae9c7aceddd",
   "metadata": {},
   "source": [
    "# Removing useless columns from the data"
   ]
  },
  {
   "cell_type": "code",
   "execution_count": 83,
   "id": "9e36d87c-30d4-4063-903c-0c42af9a0fc4",
   "metadata": {},
   "outputs": [
    {
     "data": {
      "text/html": [
       "<div>\n",
       "<style scoped>\n",
       "    .dataframe tbody tr th:only-of-type {\n",
       "        vertical-align: middle;\n",
       "    }\n",
       "\n",
       "    .dataframe tbody tr th {\n",
       "        vertical-align: top;\n",
       "    }\n",
       "\n",
       "    .dataframe thead th {\n",
       "        text-align: right;\n",
       "    }\n",
       "</style>\n",
       "<table border=\"1\" class=\"dataframe\">\n",
       "  <thead>\n",
       "    <tr style=\"text-align: right;\">\n",
       "      <th></th>\n",
       "      <th>Daily Time Spent on Site</th>\n",
       "      <th>Age</th>\n",
       "      <th>Area Income</th>\n",
       "      <th>Daily Internet Usage</th>\n",
       "      <th>Gender</th>\n",
       "      <th>Timestamp</th>\n",
       "      <th>Clicked on Ad</th>\n",
       "    </tr>\n",
       "  </thead>\n",
       "  <tbody>\n",
       "    <tr>\n",
       "      <th>0</th>\n",
       "      <td>62.26</td>\n",
       "      <td>32.0</td>\n",
       "      <td>69481.85</td>\n",
       "      <td>172.83</td>\n",
       "      <td>Male</td>\n",
       "      <td>2016-06-09 21:43:05</td>\n",
       "      <td>0</td>\n",
       "    </tr>\n",
       "    <tr>\n",
       "      <th>1</th>\n",
       "      <td>41.73</td>\n",
       "      <td>31.0</td>\n",
       "      <td>61840.26</td>\n",
       "      <td>207.17</td>\n",
       "      <td>Male</td>\n",
       "      <td>2016-01-16 17:56:05</td>\n",
       "      <td>0</td>\n",
       "    </tr>\n",
       "    <tr>\n",
       "      <th>2</th>\n",
       "      <td>44.40</td>\n",
       "      <td>30.0</td>\n",
       "      <td>57877.15</td>\n",
       "      <td>172.83</td>\n",
       "      <td>Female</td>\n",
       "      <td>2016-06-29 10:50:45</td>\n",
       "      <td>0</td>\n",
       "    </tr>\n",
       "    <tr>\n",
       "      <th>3</th>\n",
       "      <td>59.88</td>\n",
       "      <td>28.0</td>\n",
       "      <td>56180.93</td>\n",
       "      <td>207.17</td>\n",
       "      <td>Female</td>\n",
       "      <td>2016-06-21 14:32:32</td>\n",
       "      <td>0</td>\n",
       "    </tr>\n",
       "    <tr>\n",
       "      <th>4</th>\n",
       "      <td>49.21</td>\n",
       "      <td>30.0</td>\n",
       "      <td>54324.73</td>\n",
       "      <td>201.58</td>\n",
       "      <td>Female</td>\n",
       "      <td>2016-07-21 10:54:35</td>\n",
       "      <td>1</td>\n",
       "    </tr>\n",
       "    <tr>\n",
       "      <th>...</th>\n",
       "      <td>...</td>\n",
       "      <td>...</td>\n",
       "      <td>...</td>\n",
       "      <td>...</td>\n",
       "      <td>...</td>\n",
       "      <td>...</td>\n",
       "      <td>...</td>\n",
       "    </tr>\n",
       "    <tr>\n",
       "      <th>9994</th>\n",
       "      <td>41.73</td>\n",
       "      <td>28.0</td>\n",
       "      <td>39799.73</td>\n",
       "      <td>217.37</td>\n",
       "      <td>Female</td>\n",
       "      <td>2016-03-20 02:44:13</td>\n",
       "      <td>0</td>\n",
       "    </tr>\n",
       "    <tr>\n",
       "      <th>9995</th>\n",
       "      <td>41.73</td>\n",
       "      <td>31.0</td>\n",
       "      <td>61840.26</td>\n",
       "      <td>207.17</td>\n",
       "      <td>Male</td>\n",
       "      <td>2016-01-03 03:22:15</td>\n",
       "      <td>1</td>\n",
       "    </tr>\n",
       "    <tr>\n",
       "      <th>9996</th>\n",
       "      <td>41.73</td>\n",
       "      <td>28.0</td>\n",
       "      <td>51501.38</td>\n",
       "      <td>120.49</td>\n",
       "      <td>Male</td>\n",
       "      <td>2016-05-28 12:20:15</td>\n",
       "      <td>0</td>\n",
       "    </tr>\n",
       "    <tr>\n",
       "      <th>9997</th>\n",
       "      <td>55.60</td>\n",
       "      <td>39.0</td>\n",
       "      <td>38067.08</td>\n",
       "      <td>124.44</td>\n",
       "      <td>Female</td>\n",
       "      <td>2016-01-05 11:53:17</td>\n",
       "      <td>0</td>\n",
       "    </tr>\n",
       "    <tr>\n",
       "      <th>9998</th>\n",
       "      <td>46.61</td>\n",
       "      <td>50.0</td>\n",
       "      <td>43974.49</td>\n",
       "      <td>123.13</td>\n",
       "      <td>Female</td>\n",
       "      <td>2016-04-04 07:07:46</td>\n",
       "      <td>1</td>\n",
       "    </tr>\n",
       "  </tbody>\n",
       "</table>\n",
       "<p>9785 rows × 7 columns</p>\n",
       "</div>"
      ],
      "text/plain": [
       "      Daily Time Spent on Site   Age  Area Income  Daily Internet Usage  \\\n",
       "0                        62.26  32.0     69481.85                172.83   \n",
       "1                        41.73  31.0     61840.26                207.17   \n",
       "2                        44.40  30.0     57877.15                172.83   \n",
       "3                        59.88  28.0     56180.93                207.17   \n",
       "4                        49.21  30.0     54324.73                201.58   \n",
       "...                        ...   ...          ...                   ...   \n",
       "9994                     41.73  28.0     39799.73                217.37   \n",
       "9995                     41.73  31.0     61840.26                207.17   \n",
       "9996                     41.73  28.0     51501.38                120.49   \n",
       "9997                     55.60  39.0     38067.08                124.44   \n",
       "9998                     46.61  50.0     43974.49                123.13   \n",
       "\n",
       "      Gender            Timestamp  Clicked on Ad  \n",
       "0       Male  2016-06-09 21:43:05              0  \n",
       "1       Male  2016-01-16 17:56:05              0  \n",
       "2     Female  2016-06-29 10:50:45              0  \n",
       "3     Female  2016-06-21 14:32:32              0  \n",
       "4     Female  2016-07-21 10:54:35              1  \n",
       "...      ...                  ...            ...  \n",
       "9994  Female  2016-03-20 02:44:13              0  \n",
       "9995    Male  2016-01-03 03:22:15              1  \n",
       "9996    Male  2016-05-28 12:20:15              0  \n",
       "9997  Female  2016-01-05 11:53:17              0  \n",
       "9998  Female  2016-04-04 07:07:46              1  \n",
       "\n",
       "[9785 rows x 7 columns]"
      ]
     },
     "execution_count": 83,
     "metadata": {},
     "output_type": "execute_result"
    }
   ],
   "source": [
    "AdData=AdData.drop(['Ad Topic Line','City','Country'], axis=1)\n",
    "AdData"
   ]
  },
  {
   "cell_type": "markdown",
   "id": "7490540d-a2a1-4498-b187-65db58afc7d6",
   "metadata": {},
   "source": [
    "Defining the problem statement:\n",
    "Create a Predictive model which can tell if a person will click on the advertsement or not\n",
    "Target Variable: Clicked on Ad\n",
    "\n",
    "Predictors: Daily Time Spent on Site, Age, Area Income, Gender, Timestamp etc.\n",
    "\n",
    "Clicked on Ad=0 The person clicked on the addvertsiment \n",
    "Clicked on Ad=1 The person does not click on the addvertsiment "
   ]
  },
  {
   "cell_type": "markdown",
   "id": "22f1da72-110a-40c4-ab53-aa17c4a1b679",
   "metadata": {},
   "source": [
    "Looking at the distribution of Target variable\n",
    "If target variable's distribution is too skewed then the predictive modeling will not be possible.\n",
    "Bell curve is desirable but slightly positive skew or negative skew is also fine\n",
    "When performing Classification, make sure there is a balance in the the distribution of each class otherwise it impacts the Machine Learning algorithms ability to learn all the classes"
   ]
  },
  {
   "cell_type": "code",
   "execution_count": 84,
   "id": "7cd20320-1016-4ef5-990d-6518a3c47392",
   "metadata": {},
   "outputs": [
    {
     "data": {
      "text/plain": [
       "<Axes: xlabel='Clicked on Ad'>"
      ]
     },
     "execution_count": 84,
     "metadata": {},
     "output_type": "execute_result"
    },
    {
     "data": {
      "image/png": "[encoded data removed]",
      "text/plain": [
       "<Figure size 400x300 with 1 Axes>"
      ]
     },
     "metadata": {},
     "output_type": "display_data"
    }
   ],
   "source": [
    "%matplotlib inline\n",
    "# Creating Bar chart as the Target variable is Categorical\n",
    "GroupedData=AdData.groupby('Clicked on Ad').size()\n",
    "GroupedData.plot(kind='bar', figsize=(4,3))"
   ]
  },
  {
   "cell_type": "code",
   "execution_count": null,
   "id": "d93504ce-e3db-49e5-a1c7-72368ff0d80c",
   "metadata": {},
   "outputs": [],
   "source": [
    "### Extracting the month and hour data from Timestamp to understand the pattern regrading the month and hour when a person clicked or not. "
   ]
  },
  {
   "cell_type": "code",
   "execution_count": 85,
   "id": "b1d86eb1-5148-432a-b41e-fc72d9f52837",
   "metadata": {},
   "outputs": [],
   "source": [
    "from datetime import datetime\n",
    "AdData['Timestamp']=pd.to_datetime(AdData['Timestamp'])\n",
    "AdData['Month']=AdData['Timestamp'].dt.month\n",
    "AdData['Hour']=AdData['Timestamp'].dt.hour\n"
   ]
  },
  {
   "cell_type": "code",
   "execution_count": 86,
   "id": "f390c587-0116-4e12-a208-8aa859640dad",
   "metadata": {},
   "outputs": [],
   "source": [
    "AdData['Month']\n",
    "AdData['Hour']\n",
    "AdData\n",
    "AdData.nunique()\n",
    "AdData=AdData.drop('Timestamp', axis=1)\n"
   ]
  },
  {
   "cell_type": "code",
   "execution_count": 87,
   "id": "e9c6efce-e71a-40a1-88ec-9628248e23b5",
   "metadata": {},
   "outputs": [
    {
     "data": {
      "text/html": [
       "<div>\n",
       "<style scoped>\n",
       "    .dataframe tbody tr th:only-of-type {\n",
       "        vertical-align: middle;\n",
       "    }\n",
       "\n",
       "    .dataframe tbody tr th {\n",
       "        vertical-align: top;\n",
       "    }\n",
       "\n",
       "    .dataframe thead th {\n",
       "        text-align: right;\n",
       "    }\n",
       "</style>\n",
       "<table border=\"1\" class=\"dataframe\">\n",
       "  <thead>\n",
       "    <tr style=\"text-align: right;\">\n",
       "      <th></th>\n",
       "      <th>Daily Time Spent on Site</th>\n",
       "      <th>Age</th>\n",
       "      <th>Area Income</th>\n",
       "      <th>Daily Internet Usage</th>\n",
       "      <th>Gender</th>\n",
       "      <th>Clicked on Ad</th>\n",
       "      <th>Month</th>\n",
       "      <th>Hour</th>\n",
       "    </tr>\n",
       "  </thead>\n",
       "  <tbody>\n",
       "    <tr>\n",
       "      <th>0</th>\n",
       "      <td>62.26</td>\n",
       "      <td>32.0</td>\n",
       "      <td>69481.85</td>\n",
       "      <td>172.83</td>\n",
       "      <td>Male</td>\n",
       "      <td>0</td>\n",
       "      <td>6</td>\n",
       "      <td>21</td>\n",
       "    </tr>\n",
       "    <tr>\n",
       "      <th>1</th>\n",
       "      <td>41.73</td>\n",
       "      <td>31.0</td>\n",
       "      <td>61840.26</td>\n",
       "      <td>207.17</td>\n",
       "      <td>Male</td>\n",
       "      <td>0</td>\n",
       "      <td>1</td>\n",
       "      <td>17</td>\n",
       "    </tr>\n",
       "    <tr>\n",
       "      <th>2</th>\n",
       "      <td>44.40</td>\n",
       "      <td>30.0</td>\n",
       "      <td>57877.15</td>\n",
       "      <td>172.83</td>\n",
       "      <td>Female</td>\n",
       "      <td>0</td>\n",
       "      <td>6</td>\n",
       "      <td>10</td>\n",
       "    </tr>\n",
       "    <tr>\n",
       "      <th>3</th>\n",
       "      <td>59.88</td>\n",
       "      <td>28.0</td>\n",
       "      <td>56180.93</td>\n",
       "      <td>207.17</td>\n",
       "      <td>Female</td>\n",
       "      <td>0</td>\n",
       "      <td>6</td>\n",
       "      <td>14</td>\n",
       "    </tr>\n",
       "    <tr>\n",
       "      <th>4</th>\n",
       "      <td>49.21</td>\n",
       "      <td>30.0</td>\n",
       "      <td>54324.73</td>\n",
       "      <td>201.58</td>\n",
       "      <td>Female</td>\n",
       "      <td>1</td>\n",
       "      <td>7</td>\n",
       "      <td>10</td>\n",
       "    </tr>\n",
       "    <tr>\n",
       "      <th>...</th>\n",
       "      <td>...</td>\n",
       "      <td>...</td>\n",
       "      <td>...</td>\n",
       "      <td>...</td>\n",
       "      <td>...</td>\n",
       "      <td>...</td>\n",
       "      <td>...</td>\n",
       "      <td>...</td>\n",
       "    </tr>\n",
       "    <tr>\n",
       "      <th>9994</th>\n",
       "      <td>41.73</td>\n",
       "      <td>28.0</td>\n",
       "      <td>39799.73</td>\n",
       "      <td>217.37</td>\n",
       "      <td>Female</td>\n",
       "      <td>0</td>\n",
       "      <td>3</td>\n",
       "      <td>2</td>\n",
       "    </tr>\n",
       "    <tr>\n",
       "      <th>9995</th>\n",
       "      <td>41.73</td>\n",
       "      <td>31.0</td>\n",
       "      <td>61840.26</td>\n",
       "      <td>207.17</td>\n",
       "      <td>Male</td>\n",
       "      <td>1</td>\n",
       "      <td>1</td>\n",
       "      <td>3</td>\n",
       "    </tr>\n",
       "    <tr>\n",
       "      <th>9996</th>\n",
       "      <td>41.73</td>\n",
       "      <td>28.0</td>\n",
       "      <td>51501.38</td>\n",
       "      <td>120.49</td>\n",
       "      <td>Male</td>\n",
       "      <td>0</td>\n",
       "      <td>5</td>\n",
       "      <td>12</td>\n",
       "    </tr>\n",
       "    <tr>\n",
       "      <th>9997</th>\n",
       "      <td>55.60</td>\n",
       "      <td>39.0</td>\n",
       "      <td>38067.08</td>\n",
       "      <td>124.44</td>\n",
       "      <td>Female</td>\n",
       "      <td>0</td>\n",
       "      <td>1</td>\n",
       "      <td>11</td>\n",
       "    </tr>\n",
       "    <tr>\n",
       "      <th>9998</th>\n",
       "      <td>46.61</td>\n",
       "      <td>50.0</td>\n",
       "      <td>43974.49</td>\n",
       "      <td>123.13</td>\n",
       "      <td>Female</td>\n",
       "      <td>1</td>\n",
       "      <td>4</td>\n",
       "      <td>7</td>\n",
       "    </tr>\n",
       "  </tbody>\n",
       "</table>\n",
       "<p>9785 rows × 8 columns</p>\n",
       "</div>"
      ],
      "text/plain": [
       "      Daily Time Spent on Site   Age  Area Income  Daily Internet Usage  \\\n",
       "0                        62.26  32.0     69481.85                172.83   \n",
       "1                        41.73  31.0     61840.26                207.17   \n",
       "2                        44.40  30.0     57877.15                172.83   \n",
       "3                        59.88  28.0     56180.93                207.17   \n",
       "4                        49.21  30.0     54324.73                201.58   \n",
       "...                        ...   ...          ...                   ...   \n",
       "9994                     41.73  28.0     39799.73                217.37   \n",
       "9995                     41.73  31.0     61840.26                207.17   \n",
       "9996                     41.73  28.0     51501.38                120.49   \n",
       "9997                     55.60  39.0     38067.08                124.44   \n",
       "9998                     46.61  50.0     43974.49                123.13   \n",
       "\n",
       "      Gender  Clicked on Ad  Month  Hour  \n",
       "0       Male              0      6    21  \n",
       "1       Male              0      1    17  \n",
       "2     Female              0      6    10  \n",
       "3     Female              0      6    14  \n",
       "4     Female              1      7    10  \n",
       "...      ...            ...    ...   ...  \n",
       "9994  Female              0      3     2  \n",
       "9995    Male              1      1     3  \n",
       "9996    Male              0      5    12  \n",
       "9997  Female              0      1    11  \n",
       "9998  Female              1      4     7  \n",
       "\n",
       "[9785 rows x 8 columns]"
      ]
     },
     "execution_count": 87,
     "metadata": {},
     "output_type": "execute_result"
    }
   ],
   "source": [
    "AdData"
   ]
  },
  {
   "cell_type": "markdown",
   "id": "a42c1fd9-8b8b-4443-a62e-62092f3c4476",
   "metadata": {},
   "source": [
    "# Visual Exploratory Data Analysis\n",
    "Visualize distribution of all the Categorical Predictor variables in the data using bar plots\n",
    "We can spot a categorical variable in the data by looking at the unique values in them. Typically a categorical variable contains less than 20 Unique values AND there is repetition of values, which means the data can be grouped by those unique values.\n",
    "\n",
    "Based on the Basic Data Exploration above, we have spotted five categorical predictors in the data\n",
    "\n",
    "Categorical Predictors: 'Gender', 'Month'\n",
    "\n",
    "We use bar charts to see how the data is distributed for these categorical columns."
   ]
  },
  {
   "cell_type": "code",
   "execution_count": 88,
   "id": "43b49af2-0426-4c91-8d26-c904130add1d",
   "metadata": {},
   "outputs": [],
   "source": [
    "# Plotting multiple bar charts at once for categorical variables\n",
    "# Since there is no default function which can plot bar charts for multiple columns at once\n",
    "# we are defining our own function for the same\n",
    "\n",
    "def PlotBarCharts(inpData, colsToPlot):\n",
    "    %matplotlib inline\n",
    "    \n",
    "    import matplotlib.pyplot as plt\n",
    "    \n",
    "    # Generating multiple subplots\n",
    "    fig, subPlot=plt.subplots(nrows=1, ncols=len(colsToPlot), figsize=(20,5))\n",
    "    fig.suptitle('Bar charts of: '+ str(colsToPlot))\n",
    "\n",
    "    for colName, plotNumber in zip(colsToPlot, range(len(colsToPlot))):\n",
    "        AdData.groupby(colName).size().plot(kind='bar',ax=subPlot[plotNumber])"
   ]
  },
  {
   "cell_type": "code",
   "execution_count": 89,
   "id": "e1e1c592-b087-4316-9f6b-67e874dd8d2f",
   "metadata": {},
   "outputs": [
    {
     "data": {
      "image/png": "[encoded data removed]",
      "text/plain": [
       "<Figure size 2000x500 with 2 Axes>"
      ]
     },
     "metadata": {},
     "output_type": "display_data"
    }
   ],
   "source": [
    "#####################################################################\n",
    "# Calling the function\n",
    "PlotBarCharts(inpData=AdData, colsToPlot=['Gender', 'Month'])"
   ]
  },
  {
   "cell_type": "markdown",
   "id": "49e831fb-4169-48e1-a6db-7c2376f11db6",
   "metadata": {},
   "source": [
    "# Bar Charts Interpretation\n",
    "These bar charts represent the frequencies of each category in the Y-axis and the category names in the X-axis.\n",
    "\n",
    "In the ideal bar chart each category has comparable frequency. Hence, there are enough rows for each category in the data for the ML algorithm to learn.\n",
    "\n",
    "If there is a column which shows too skewed distribution where there is only one dominant bar and the other categories are present in very low numbers. These kind of columns may not be very helpful in machine learning. We confirm this in the correlation analysis section and take a final call to select or reject the column.\n",
    "\n",
    "In this data, all the categorical columns except have satisfactory distribution to be considered for machine learning.\n",
    "\n",
    "Selected Categorical Variables: All the categorical variables are selected for further analysis.\n",
    "\n",
    "'Gender', 'Month'"
   ]
  },
  {
   "cell_type": "markdown",
   "id": "52d70f42-1e5f-47ba-a078-c8294ab93c95",
   "metadata": {},
   "source": [
    "# Visualize distribution of all the Continuous Predictor variables in the data using histograms\n",
    "Based on the Basic Data Exploration, Three continuous predictor variables Power,Engine, Price"
   ]
  },
  {
   "cell_type": "code",
   "execution_count": 90,
   "id": "9c8b5bbd-fc6a-4d9b-b24f-a7dcd0383d5b",
   "metadata": {},
   "outputs": [
    {
     "data": {
      "text/plain": [
       "array([[<Axes: title={'center': 'Daily Time Spent on Site'}>,\n",
       "        <Axes: title={'center': 'Age'}>],\n",
       "       [<Axes: title={'center': 'Area Income'}>,\n",
       "        <Axes: title={'center': 'Hour'}>]], dtype=object)"
      ]
     },
     "execution_count": 90,
     "metadata": {},
     "output_type": "execute_result"
    },
    {
     "data": {
      "image/png": "[encoded data removed]",
      "text/plain": [
       "<Figure size 1800x1000 with 4 Axes>"
      ]
     },
     "metadata": {},
     "output_type": "display_data"
    }
   ],
   "source": [
    "# Plotting histograms of multiple columns together\n",
    "AdData.hist(['Daily Time Spent on Site', 'Age', 'Area Income','Hour'], figsize=(18,10))"
   ]
  },
  {
   "cell_type": "markdown",
   "id": "453c3f59-1473-411e-9a4c-ac01cd4893ee",
   "metadata": {},
   "source": [
    "Histogram Interpretation\n",
    "Histograms shows us the data distribution for a single continuous variable.\n",
    "\n",
    "The X-axis shows the range of values and Y-axis represent the number of values in that range. \n",
    "\n",
    "The ideal outcome for histogram is a bell curve or slightly skewed bell curve. If there is too much skewness, then outlier treatment should be done and the column should be re-examined, if that also does not solve the problem then only reject the column.\n",
    "\n",
    "Selected Continuous Variables:\n",
    "\n",
    "Age Income: Selected. The distribution is good.\n",
    "Daily time spent: Selected. The distribution is good. \n",
    "Age:Selected. The distribution is good.\n",
    "Hour:Selected. The distribution is good."
   ]
  },
  {
   "cell_type": "markdown",
   "id": "71e0351c-db05-41f0-97a5-f4120a3020d7",
   "metadata": {},
   "source": [
    "### No outlier Treatment is needed in this data"
   ]
  },
  {
   "cell_type": "markdown",
   "id": "c9c80ff6-2e9a-4915-87e3-ec3783917125",
   "metadata": {},
   "source": [
    "Feature Selection\n",
    "Now its time to finally choose the best columns(Features) which are correlated to the Target variable. This can be done directly by measuring the correlation values or ANOVA/Chi-Square tests. However, it is always helpful to visualize the relation between the Target variable and each of the predictors to get a better sense of data.\n",
    "\n",
    "I have listed below the techniques used for visualizing relationship between two variables as well as measuring the strength statistically.\n",
    "\n",
    "Visual exploration of relationship between variables\n",
    "Continuous Vs Continuous ---- Scatter Plot\n",
    "Categorical Vs Continuous---- Box Plot\n",
    "Categorical Vs Categorical---- Grouped Bar Plots\n",
    "Statistical measurement of relationship strength between variables\n",
    "Continuous Vs Continuous ---- Correlation matrix\n",
    "Categorical Vs Continuous---- ANOVA test\n",
    "Categorical Vs Categorical--- Chi-Square test\n",
    "In this case study the Target variable is categorical, hence below two scenarios will be present\n",
    "\n",
    "Categorical Target Variable Vs Continuous Predictor\n",
    "Categorical Target Variable Vs Categorical Predictor"
   ]
  },
  {
   "cell_type": "code",
   "execution_count": 91,
   "id": "861f5e9c-7acf-42de-853b-d0a4a0fd1d92",
   "metadata": {
    "scrolled": true
   },
   "outputs": [
    {
     "name": "stdout",
     "output_type": "stream",
     "text": [
      "Daily Time Spent on Site    0\n",
      "Age                         0\n",
      "Area Income                 0\n",
      "Daily Internet Usage        0\n",
      "Gender                      0\n",
      "Clicked on Ad               0\n",
      "Month                       0\n",
      "Hour                        0\n",
      "dtype: int64\n"
     ]
    },
    {
     "data": {
      "text/plain": [
       "<Axes: >"
      ]
     },
     "execution_count": 91,
     "metadata": {},
     "output_type": "execute_result"
    },
    {
     "data": {
      "image/png": "[encoded data removed]",
      "text/plain": [
       "<Figure size 640x480 with 1 Axes>"
      ]
     },
     "metadata": {},
     "output_type": "display_data"
    }
   ],
   "source": [
    "# Finding how many missing values are there for each column\n",
    "print(AdData.isnull().sum())\n",
    "AdData.isnull().sum().plot(kind='bar') "
   ]
  },
  {
   "cell_type": "markdown",
   "id": "83f7c4a8-2878-465f-87e4-d8dce5592ea6",
   "metadata": {},
   "source": [
    "Relationship exploration: Categorical Vs Continuous -- Box Plots\n",
    "When the target variable is Continuous and the predictor variable is Categorical we analyze the relation using Boxplots and measure the strength of relation using Anova test"
   ]
  },
  {
   "cell_type": "markdown",
   "id": "3bbfe7de-2317-4076-9354-a6fe8ac91ef7",
   "metadata": {},
   "source": [
    "### Missing Value treatment is not needed here"
   ]
  },
  {
   "cell_type": "code",
   "execution_count": 92,
   "id": "4adc8f51-70e8-47aa-b7c9-cf2426fbe521",
   "metadata": {},
   "outputs": [
    {
     "data": {
      "image/png": "[encoded data removed]",
      "text/plain": [
       "<Figure size 1800x500 with 4 Axes>"
      ]
     },
     "metadata": {},
     "output_type": "display_data"
    }
   ],
   "source": [
    "# Box plots for Categorical Target Variable \"Clicked on Ad\" and continuous predictors\n",
    "ContinuousColsList=['Daily Time Spent on Site', 'Age', 'Area Income','Hour']\n",
    "\n",
    "import matplotlib.pyplot as plt\n",
    "fig, PlotCanvas=plt.subplots(nrows=1, ncols=len(ContinuousColsList), figsize=(18,5))\n",
    "\n",
    "# Creating box plots for each continuous predictor against the Target Variable \"Clicked on Ad\"\n",
    "for PredictorCol , i in zip(ContinuousColsList, range(len(ContinuousColsList))):\n",
    "    AdData.boxplot(column=PredictorCol, by='Clicked on Ad', figsize=(5,5), vert=True, ax=PlotCanvas[i])"
   ]
  },
  {
   "cell_type": "markdown",
   "id": "982a18c6-6b21-4048-8d74-3e6f228ea3e9",
   "metadata": {},
   "source": [
    "### Box-Plots interpretation\n",
    "What should you look for in these box plots?\n",
    "\n",
    "These plots gives an idea about the data distribution of continuous predictor in the Y-axis for each of the category in the X-Axis.\n",
    "\n",
    "If the distribution looks similar for each category(Boxes are in the same line), that means the the continuous variable has NO effect on the target variable. Hence, the variables are not correlated to each other.\n",
    "\n",
    "For example, we look at the first chart \"Daily Time spent on site\" Vs \"Clicked on Ad\". The boxes are not in the same line! It means that people who have Clicked and those who did not click have different kind of Daily Time spent on site. Hence, I can distinguish between Clicked on Ad or not based on the their Daily Time spent on site. So this column is  correlated with the Clicked on Ad.\n",
    "\n",
    "\n",
    "We confirm this by looking at the results of ANOVA test below"
   ]
  },
  {
   "cell_type": "markdown",
   "id": "88cd6bd4-ebfd-467f-948f-8c7bd3e715b1",
   "metadata": {},
   "source": [
    "# Statistical Feature Selection (Categorical Vs Continuous) using ANOVA test\n",
    "Analysis of variance(ANOVA) is performed to check if there is any relationship between the given continuous and categorical variable\n",
    "\n",
    "Assumption(H0): There is NO relation between the given variables (i.e. The average(mean) values of the numeric Target variable is same for all the groups in the categorical Predictor variable)\n",
    "ANOVA Test result: Probability of H0 being true"
   ]
  },
  {
   "cell_type": "code",
   "execution_count": 93,
   "id": "841195f5-3d54-430b-b13f-f8d77d4c3484",
   "metadata": {},
   "outputs": [],
   "source": [
    "# Defining a function to find the statistical relationship with all the categorical variables\n",
    "def FunctionAnova(inpData, TargetVariable, ContinuousPredictorList):\n",
    "    from scipy.stats import f_oneway\n",
    "\n",
    "    # Creating an empty list of final selected predictors\n",
    "    SelectedPredictors=[]\n",
    "    \n",
    "    print('##### ANOVA Results ##### \\n')\n",
    "    for predictor in ContinuousPredictorList:\n",
    "        CategoryGroupLists=inpData.groupby(TargetVariable)[predictor].apply(list)\n",
    "        AnovaResults = f_oneway(*CategoryGroupLists)\n",
    "        \n",
    "        # If the ANOVA P-Value is <0.05, that means we reject H0\n",
    "        if (AnovaResults[1] < 0.05):\n",
    "            print(predictor, 'is correlated with', TargetVariable, '| P-Value:', AnovaResults[1])\n",
    "            SelectedPredictors.append(predictor)\n",
    "        else:\n",
    "            print(predictor, 'is NOT correlated with', TargetVariable, '| P-Value:', AnovaResults[1])\n",
    "    \n",
    "    return(SelectedPredictors)"
   ]
  },
  {
   "cell_type": "code",
   "execution_count": 94,
   "id": "828c9a91-cc53-446c-86c2-ac17e376cb73",
   "metadata": {},
   "outputs": [
    {
     "name": "stdout",
     "output_type": "stream",
     "text": [
      "##### ANOVA Results ##### \n",
      "\n",
      "Daily Time Spent on Site is correlated with Clicked on Ad | P-Value: 6.512417897704822e-18\n",
      "Age is correlated with Clicked on Ad | P-Value: 0.0\n",
      "Area Income is correlated with Clicked on Ad | P-Value: 2.2419290679012107e-10\n",
      "Hour is correlated with Clicked on Ad | P-Value: 2.124457480201686e-37\n"
     ]
    },
    {
     "data": {
      "text/plain": [
       "['Daily Time Spent on Site', 'Age', 'Area Income', 'Hour']"
      ]
     },
     "execution_count": 94,
     "metadata": {},
     "output_type": "execute_result"
    }
   ],
   "source": [
    "# Calling the function to check which categorical variables are correlated with target\n",
    "ContinuousVariables=['Daily Time Spent on Site', 'Age', 'Area Income','Hour']\n",
    "FunctionAnova(inpData=AdData, TargetVariable='Clicked on Ad', ContinuousPredictorList=ContinuousVariables)"
   ]
  },
  {
   "cell_type": "markdown",
   "id": "93c212e2-363a-4d06-9a11-eae001f4c32e",
   "metadata": {},
   "source": [
    "The results of ANOVA confirm our visual analysis using box plots above.\n",
    "\n",
    "Final selected Continuous columns:\n",
    "\n",
    "'Daily Time Spent on Site', 'Age', 'Area Income', 'Hour'"
   ]
  },
  {
   "cell_type": "markdown",
   "id": "6975df99-9e37-4d09-bdad-2b4d800ed797",
   "metadata": {},
   "source": [
    "Relationship exploration: Categorical Vs Categorical -- Grouped Bar Charts\n",
    "When the target variable is Categorical and the predictor is also Categorical then we explore the correlation between them visually using barplots and statistically using Chi-square test"
   ]
  },
  {
   "cell_type": "code",
   "execution_count": 95,
   "id": "b0fae390-2f4a-443d-aac9-9ae0a7f3d7b2",
   "metadata": {},
   "outputs": [
    {
     "data": {
      "image/png": "[encoded data removed]",
      "text/plain": [
       "<Figure size 1000x3000 with 2 Axes>"
      ]
     },
     "metadata": {},
     "output_type": "display_data"
    }
   ],
   "source": [
    "# Visual Inference using Grouped Bar charts\n",
    "CategoricalColsList=['Gender', 'Month']\n",
    "\n",
    "import matplotlib.pyplot as plt\n",
    "fig, PlotCanvas=plt.subplots(nrows=len(CategoricalColsList), ncols=1, figsize=(10,30))\n",
    "\n",
    "# Creating Grouped bar plots for each categorical predictor against the Target Variable \"Survived\"\n",
    "for CategoricalCol , i in zip(CategoricalColsList, range(len(CategoricalColsList))):\n",
    "    CrossTabResult=pd.crosstab(index=AdData[CategoricalCol], columns=AdData['Clicked on Ad'])\n",
    "    CrossTabResult.plot.bar(color=['red','green'], ax=PlotCanvas[i], title=CategoricalCol+' Vs '+'Survived')"
   ]
  },
  {
   "cell_type": "markdown",
   "id": "e771409b-5329-4e98-9f7f-2e44d9d0db3e",
   "metadata": {},
   "source": [
    "Grouped Bar charts Interpretation\n",
    "What to look for in these grouped bar charts?\n",
    "\n",
    "These grouped bar charts show the frequency in the Y-Axis and the category in the X-Axis. If the ratio of bars is similar across all categories, then the two columns are not correlated.\n",
    "\n",
    "If we look at the Gender vs Clicked on Add chart. The bars are different for each Gender. Hence, two columns are correlated with each other.\n",
    "\n",
    "We confirm this analysis in below section by using Chi-Square Tests."
   ]
  },
  {
   "cell_type": "markdown",
   "id": "df88e195-0f43-41a6-8c75-ee724a73b3f8",
   "metadata": {},
   "source": [
    "Statistical Feature Selection (Categorical Vs Categorical) using Chi-Square Test\n",
    "Chi-Square test is conducted to check the correlation between two categorical variables\n",
    "\n",
    "Assumption(H0): The two columns are NOT related to each other\n",
    "Result of Chi-Sq Test: The Probability of H0 being True"
   ]
  },
  {
   "cell_type": "code",
   "execution_count": 96,
   "id": "b5ea97cf-1237-46fd-a92b-afe698506d24",
   "metadata": {},
   "outputs": [],
   "source": [
    "# Writing a function to find the correlation of all categorical variables with the Target variable\n",
    "def FunctionChisq(inpData, TargetVariable, CategoricalVariablesList):\n",
    "    from scipy.stats import chi2_contingency\n",
    "    \n",
    "    # Creating an empty list of final selected predictors\n",
    "    SelectedPredictors=[]\n",
    "\n",
    "    for predictor in CategoricalVariablesList:\n",
    "        CrossTabResult=pd.crosstab(index=inpData[TargetVariable], columns=inpData[predictor])\n",
    "        ChiSqResult = chi2_contingency(CrossTabResult)\n",
    "        \n",
    "        # If the ChiSq P-Value is <0.05, that means we reject H0\n",
    "        if (ChiSqResult[1] < 0.05):\n",
    "            print(predictor, 'is correlated with', TargetVariable, '| P-Value:', ChiSqResult[1])\n",
    "            SelectedPredictors.append(predictor)\n",
    "        else:\n",
    "            print(predictor, 'is NOT correlated with', TargetVariable, '| P-Value:', ChiSqResult[1])        \n",
    "            \n",
    "    return(SelectedPredictors)"
   ]
  },
  {
   "cell_type": "code",
   "execution_count": 97,
   "id": "289e1a8a-8d42-4059-9ee9-0f912bea4af3",
   "metadata": {},
   "outputs": [
    {
     "name": "stdout",
     "output_type": "stream",
     "text": [
      "Gender is correlated with Clicked on Ad | P-Value: 2.852766136578681e-07\n",
      "Month is correlated with Clicked on Ad | P-Value: 8.3907313320513e-90\n"
     ]
    },
    {
     "data": {
      "text/plain": [
       "['Gender', 'Month']"
      ]
     },
     "execution_count": 97,
     "metadata": {},
     "output_type": "execute_result"
    }
   ],
   "source": [
    "CategoricalVariables=['Gender', 'Month']\n",
    "\n",
    "# Calling the function\n",
    "FunctionChisq(inpData=AdData, \n",
    "              TargetVariable='Clicked on Ad',\n",
    "              CategoricalVariablesList= CategoricalVariables)"
   ]
  },
  {
   "cell_type": "code",
   "execution_count": null,
   "id": "e4ea4f36-2edd-41dc-b278-a963f2eaebcc",
   "metadata": {},
   "outputs": [],
   "source": [
    "### Gender and Month both are selected"
   ]
  },
  {
   "cell_type": "markdown",
   "id": "0afe0c1d-ad4c-4c60-acf7-9c9e66220e26",
   "metadata": {},
   "source": [
    "Selecting final predictors for Machine Learning\n",
    "Based on the above tests, selecting the final columns for machine learning"
   ]
  },
  {
   "cell_type": "code",
   "execution_count": 98,
   "id": "24e3dd94-3e4b-4608-b737-3acabdd46715",
   "metadata": {},
   "outputs": [
    {
     "data": {
      "text/html": [
       "<div>\n",
       "<style scoped>\n",
       "    .dataframe tbody tr th:only-of-type {\n",
       "        vertical-align: middle;\n",
       "    }\n",
       "\n",
       "    .dataframe tbody tr th {\n",
       "        vertical-align: top;\n",
       "    }\n",
       "\n",
       "    .dataframe thead th {\n",
       "        text-align: right;\n",
       "    }\n",
       "</style>\n",
       "<table border=\"1\" class=\"dataframe\">\n",
       "  <thead>\n",
       "    <tr style=\"text-align: right;\">\n",
       "      <th></th>\n",
       "      <th>Gender</th>\n",
       "      <th>Month</th>\n",
       "      <th>Daily Time Spent on Site</th>\n",
       "      <th>Age</th>\n",
       "      <th>Area Income</th>\n",
       "      <th>Hour</th>\n",
       "    </tr>\n",
       "  </thead>\n",
       "  <tbody>\n",
       "    <tr>\n",
       "      <th>0</th>\n",
       "      <td>Male</td>\n",
       "      <td>6</td>\n",
       "      <td>62.26</td>\n",
       "      <td>32.0</td>\n",
       "      <td>69481.85</td>\n",
       "      <td>21</td>\n",
       "    </tr>\n",
       "    <tr>\n",
       "      <th>1</th>\n",
       "      <td>Male</td>\n",
       "      <td>1</td>\n",
       "      <td>41.73</td>\n",
       "      <td>31.0</td>\n",
       "      <td>61840.26</td>\n",
       "      <td>17</td>\n",
       "    </tr>\n",
       "    <tr>\n",
       "      <th>2</th>\n",
       "      <td>Female</td>\n",
       "      <td>6</td>\n",
       "      <td>44.40</td>\n",
       "      <td>30.0</td>\n",
       "      <td>57877.15</td>\n",
       "      <td>10</td>\n",
       "    </tr>\n",
       "    <tr>\n",
       "      <th>3</th>\n",
       "      <td>Female</td>\n",
       "      <td>6</td>\n",
       "      <td>59.88</td>\n",
       "      <td>28.0</td>\n",
       "      <td>56180.93</td>\n",
       "      <td>14</td>\n",
       "    </tr>\n",
       "    <tr>\n",
       "      <th>4</th>\n",
       "      <td>Female</td>\n",
       "      <td>7</td>\n",
       "      <td>49.21</td>\n",
       "      <td>30.0</td>\n",
       "      <td>54324.73</td>\n",
       "      <td>10</td>\n",
       "    </tr>\n",
       "  </tbody>\n",
       "</table>\n",
       "</div>"
      ],
      "text/plain": [
       "   Gender  Month  Daily Time Spent on Site   Age  Area Income  Hour\n",
       "0    Male      6                     62.26  32.0     69481.85    21\n",
       "1    Male      1                     41.73  31.0     61840.26    17\n",
       "2  Female      6                     44.40  30.0     57877.15    10\n",
       "3  Female      6                     59.88  28.0     56180.93    14\n",
       "4  Female      7                     49.21  30.0     54324.73    10"
      ]
     },
     "execution_count": 98,
     "metadata": {},
     "output_type": "execute_result"
    }
   ],
   "source": [
    "SelectedColumns=['Gender', 'Month', 'Daily Time Spent on Site', 'Age', 'Area Income','Hour']\n",
    "\n",
    "# Selecting final columns\n",
    "DataForML=AdData[SelectedColumns]\n",
    "DataForML.head()"
   ]
  },
  {
   "cell_type": "code",
   "execution_count": 64,
   "id": "20c909f6-9069-4549-bb54-3b56f58edb8e",
   "metadata": {},
   "outputs": [
    {
     "data": {
      "text/plain": [
       "'C:\\\\Users\\\\Windows 10'"
      ]
     },
     "execution_count": 64,
     "metadata": {},
     "output_type": "execute_result"
    }
   ],
   "source": [
    "import os\n",
    "os.getcwd()"
   ]
  },
  {
   "cell_type": "code",
   "execution_count": 99,
   "id": "ce559da4-dedb-4d6a-bcdd-74781ee27fe7",
   "metadata": {},
   "outputs": [],
   "source": [
    "# Saving this final data for reference during deployment\n",
    "DataForML.to_pickle('DataForML.pkl')"
   ]
  },
  {
   "cell_type": "code",
   "execution_count": 100,
   "id": "f02d3df5-313e-47da-a0cd-fa2285c91766",
   "metadata": {},
   "outputs": [
    {
     "data": {
      "text/plain": [
       "Gender                        2\n",
       "Month                         7\n",
       "Daily Time Spent on Site    460\n",
       "Age                          39\n",
       "Area Income                 524\n",
       "Hour                         24\n",
       "dtype: int64"
      ]
     },
     "execution_count": 100,
     "metadata": {},
     "output_type": "execute_result"
    }
   ],
   "source": [
    "# Reading a pickle file\n",
    "import pandas as pd\n",
    "DataForML=pd.read_pickle('DataForML.pkl')\n",
    "DataForML.head()\n",
    "DataForML.nunique()"
   ]
  },
  {
   "cell_type": "code",
   "execution_count": 101,
   "id": "5efcd44b-8970-4525-9f9f-67b2519cc287",
   "metadata": {},
   "outputs": [
    {
     "data": {
      "text/html": [
       "<div>\n",
       "<style scoped>\n",
       "    .dataframe tbody tr th:only-of-type {\n",
       "        vertical-align: middle;\n",
       "    }\n",
       "\n",
       "    .dataframe tbody tr th {\n",
       "        vertical-align: top;\n",
       "    }\n",
       "\n",
       "    .dataframe thead th {\n",
       "        text-align: right;\n",
       "    }\n",
       "</style>\n",
       "<table border=\"1\" class=\"dataframe\">\n",
       "  <thead>\n",
       "    <tr style=\"text-align: right;\">\n",
       "      <th></th>\n",
       "      <th>Gender</th>\n",
       "      <th>Month</th>\n",
       "      <th>Daily Time Spent on Site</th>\n",
       "      <th>Age</th>\n",
       "      <th>Area Income</th>\n",
       "      <th>Hour</th>\n",
       "    </tr>\n",
       "  </thead>\n",
       "  <tbody>\n",
       "    <tr>\n",
       "      <th>0</th>\n",
       "      <td>Male</td>\n",
       "      <td>6</td>\n",
       "      <td>62.26</td>\n",
       "      <td>32.0</td>\n",
       "      <td>69481.85</td>\n",
       "      <td>21</td>\n",
       "    </tr>\n",
       "    <tr>\n",
       "      <th>1</th>\n",
       "      <td>Male</td>\n",
       "      <td>1</td>\n",
       "      <td>41.73</td>\n",
       "      <td>31.0</td>\n",
       "      <td>61840.26</td>\n",
       "      <td>17</td>\n",
       "    </tr>\n",
       "    <tr>\n",
       "      <th>2</th>\n",
       "      <td>Female</td>\n",
       "      <td>6</td>\n",
       "      <td>44.40</td>\n",
       "      <td>30.0</td>\n",
       "      <td>57877.15</td>\n",
       "      <td>10</td>\n",
       "    </tr>\n",
       "    <tr>\n",
       "      <th>3</th>\n",
       "      <td>Female</td>\n",
       "      <td>6</td>\n",
       "      <td>59.88</td>\n",
       "      <td>28.0</td>\n",
       "      <td>56180.93</td>\n",
       "      <td>14</td>\n",
       "    </tr>\n",
       "    <tr>\n",
       "      <th>4</th>\n",
       "      <td>Female</td>\n",
       "      <td>7</td>\n",
       "      <td>49.21</td>\n",
       "      <td>30.0</td>\n",
       "      <td>54324.73</td>\n",
       "      <td>10</td>\n",
       "    </tr>\n",
       "    <tr>\n",
       "      <th>...</th>\n",
       "      <td>...</td>\n",
       "      <td>...</td>\n",
       "      <td>...</td>\n",
       "      <td>...</td>\n",
       "      <td>...</td>\n",
       "      <td>...</td>\n",
       "    </tr>\n",
       "    <tr>\n",
       "      <th>9994</th>\n",
       "      <td>Female</td>\n",
       "      <td>3</td>\n",
       "      <td>41.73</td>\n",
       "      <td>28.0</td>\n",
       "      <td>39799.73</td>\n",
       "      <td>2</td>\n",
       "    </tr>\n",
       "    <tr>\n",
       "      <th>9995</th>\n",
       "      <td>Male</td>\n",
       "      <td>1</td>\n",
       "      <td>41.73</td>\n",
       "      <td>31.0</td>\n",
       "      <td>61840.26</td>\n",
       "      <td>3</td>\n",
       "    </tr>\n",
       "    <tr>\n",
       "      <th>9996</th>\n",
       "      <td>Male</td>\n",
       "      <td>5</td>\n",
       "      <td>41.73</td>\n",
       "      <td>28.0</td>\n",
       "      <td>51501.38</td>\n",
       "      <td>12</td>\n",
       "    </tr>\n",
       "    <tr>\n",
       "      <th>9997</th>\n",
       "      <td>Female</td>\n",
       "      <td>1</td>\n",
       "      <td>55.60</td>\n",
       "      <td>39.0</td>\n",
       "      <td>38067.08</td>\n",
       "      <td>11</td>\n",
       "    </tr>\n",
       "    <tr>\n",
       "      <th>9998</th>\n",
       "      <td>Female</td>\n",
       "      <td>4</td>\n",
       "      <td>46.61</td>\n",
       "      <td>50.0</td>\n",
       "      <td>43974.49</td>\n",
       "      <td>7</td>\n",
       "    </tr>\n",
       "  </tbody>\n",
       "</table>\n",
       "<p>9785 rows × 6 columns</p>\n",
       "</div>"
      ],
      "text/plain": [
       "      Gender  Month  Daily Time Spent on Site   Age  Area Income  Hour\n",
       "0       Male      6                     62.26  32.0     69481.85    21\n",
       "1       Male      1                     41.73  31.0     61840.26    17\n",
       "2     Female      6                     44.40  30.0     57877.15    10\n",
       "3     Female      6                     59.88  28.0     56180.93    14\n",
       "4     Female      7                     49.21  30.0     54324.73    10\n",
       "...      ...    ...                       ...   ...          ...   ...\n",
       "9994  Female      3                     41.73  28.0     39799.73     2\n",
       "9995    Male      1                     41.73  31.0     61840.26     3\n",
       "9996    Male      5                     41.73  28.0     51501.38    12\n",
       "9997  Female      1                     55.60  39.0     38067.08    11\n",
       "9998  Female      4                     46.61  50.0     43974.49     7\n",
       "\n",
       "[9785 rows x 6 columns]"
      ]
     },
     "execution_count": 101,
     "metadata": {},
     "output_type": "execute_result"
    }
   ],
   "source": [
    "DataForML"
   ]
  },
  {
   "cell_type": "markdown",
   "id": "440685b1-421d-4239-ba6b-1ae0f34e6477",
   "metadata": {},
   "source": [
    "# Data Pre-processing for Machine Learning\n",
    "List of steps performed on predictor variables before data can be used for machine learning\n",
    "\n",
    "Converting each Ordinal Categorical columns to numeric\n",
    "Converting Binary nominal Categorical columns to numeric using 1/0 mapping\n",
    "Converting all other nominal categorical columns to numeric using pd.get_dummies()\n",
    "Data Transformation (Optional): Standardization/Normalization/log/sqrt. Important if you are using distance based algorithms like KNN, or Neural Networks\n",
    "In this data there is no Ordinal categorical variable which is in string format.\n",
    "\n",
    "Converting the binary nominal variable to numeric using 1/0 mapping\n",
    "There is no binary nominal variable in string format to be converted"
   ]
  },
  {
   "cell_type": "markdown",
   "id": "34e81040-8087-4628-a7e0-b95daab8d09c",
   "metadata": {},
   "source": [
    "## Converting the binary nominal variable to numeric using 1/0 mapping"
   ]
  },
  {
   "cell_type": "code",
   "execution_count": 104,
   "id": "8817c809-9cfb-4b29-bafd-fccdc419cc65",
   "metadata": {},
   "outputs": [],
   "source": [
    "# Converting the binary nominal variable sex to numeric\n",
    "DataForML['Gender'].replace({'Female':0, 'Male':1}, inplace=True)"
   ]
  },
  {
   "cell_type": "code",
   "execution_count": 105,
   "id": "5264017d-f3c9-4adb-9354-8da64890422c",
   "metadata": {},
   "outputs": [
    {
     "data": {
      "text/html": [
       "<div>\n",
       "<style scoped>\n",
       "    .dataframe tbody tr th:only-of-type {\n",
       "        vertical-align: middle;\n",
       "    }\n",
       "\n",
       "    .dataframe tbody tr th {\n",
       "        vertical-align: top;\n",
       "    }\n",
       "\n",
       "    .dataframe thead th {\n",
       "        text-align: right;\n",
       "    }\n",
       "</style>\n",
       "<table border=\"1\" class=\"dataframe\">\n",
       "  <thead>\n",
       "    <tr style=\"text-align: right;\">\n",
       "      <th></th>\n",
       "      <th>Gender</th>\n",
       "      <th>Month</th>\n",
       "      <th>Daily Time Spent on Site</th>\n",
       "      <th>Age</th>\n",
       "      <th>Area Income</th>\n",
       "      <th>Hour</th>\n",
       "    </tr>\n",
       "  </thead>\n",
       "  <tbody>\n",
       "    <tr>\n",
       "      <th>0</th>\n",
       "      <td>1</td>\n",
       "      <td>6</td>\n",
       "      <td>62.26</td>\n",
       "      <td>32.0</td>\n",
       "      <td>69481.85</td>\n",
       "      <td>21</td>\n",
       "    </tr>\n",
       "    <tr>\n",
       "      <th>1</th>\n",
       "      <td>1</td>\n",
       "      <td>1</td>\n",
       "      <td>41.73</td>\n",
       "      <td>31.0</td>\n",
       "      <td>61840.26</td>\n",
       "      <td>17</td>\n",
       "    </tr>\n",
       "    <tr>\n",
       "      <th>2</th>\n",
       "      <td>0</td>\n",
       "      <td>6</td>\n",
       "      <td>44.40</td>\n",
       "      <td>30.0</td>\n",
       "      <td>57877.15</td>\n",
       "      <td>10</td>\n",
       "    </tr>\n",
       "    <tr>\n",
       "      <th>3</th>\n",
       "      <td>0</td>\n",
       "      <td>6</td>\n",
       "      <td>59.88</td>\n",
       "      <td>28.0</td>\n",
       "      <td>56180.93</td>\n",
       "      <td>14</td>\n",
       "    </tr>\n",
       "    <tr>\n",
       "      <th>4</th>\n",
       "      <td>0</td>\n",
       "      <td>7</td>\n",
       "      <td>49.21</td>\n",
       "      <td>30.0</td>\n",
       "      <td>54324.73</td>\n",
       "      <td>10</td>\n",
       "    </tr>\n",
       "    <tr>\n",
       "      <th>...</th>\n",
       "      <td>...</td>\n",
       "      <td>...</td>\n",
       "      <td>...</td>\n",
       "      <td>...</td>\n",
       "      <td>...</td>\n",
       "      <td>...</td>\n",
       "    </tr>\n",
       "    <tr>\n",
       "      <th>9994</th>\n",
       "      <td>0</td>\n",
       "      <td>3</td>\n",
       "      <td>41.73</td>\n",
       "      <td>28.0</td>\n",
       "      <td>39799.73</td>\n",
       "      <td>2</td>\n",
       "    </tr>\n",
       "    <tr>\n",
       "      <th>9995</th>\n",
       "      <td>1</td>\n",
       "      <td>1</td>\n",
       "      <td>41.73</td>\n",
       "      <td>31.0</td>\n",
       "      <td>61840.26</td>\n",
       "      <td>3</td>\n",
       "    </tr>\n",
       "    <tr>\n",
       "      <th>9996</th>\n",
       "      <td>1</td>\n",
       "      <td>5</td>\n",
       "      <td>41.73</td>\n",
       "      <td>28.0</td>\n",
       "      <td>51501.38</td>\n",
       "      <td>12</td>\n",
       "    </tr>\n",
       "    <tr>\n",
       "      <th>9997</th>\n",
       "      <td>0</td>\n",
       "      <td>1</td>\n",
       "      <td>55.60</td>\n",
       "      <td>39.0</td>\n",
       "      <td>38067.08</td>\n",
       "      <td>11</td>\n",
       "    </tr>\n",
       "    <tr>\n",
       "      <th>9998</th>\n",
       "      <td>0</td>\n",
       "      <td>4</td>\n",
       "      <td>46.61</td>\n",
       "      <td>50.0</td>\n",
       "      <td>43974.49</td>\n",
       "      <td>7</td>\n",
       "    </tr>\n",
       "  </tbody>\n",
       "</table>\n",
       "<p>9785 rows × 6 columns</p>\n",
       "</div>"
      ],
      "text/plain": [
       "      Gender  Month  Daily Time Spent on Site   Age  Area Income  Hour\n",
       "0          1      6                     62.26  32.0     69481.85    21\n",
       "1          1      1                     41.73  31.0     61840.26    17\n",
       "2          0      6                     44.40  30.0     57877.15    10\n",
       "3          0      6                     59.88  28.0     56180.93    14\n",
       "4          0      7                     49.21  30.0     54324.73    10\n",
       "...      ...    ...                       ...   ...          ...   ...\n",
       "9994       0      3                     41.73  28.0     39799.73     2\n",
       "9995       1      1                     41.73  31.0     61840.26     3\n",
       "9996       1      5                     41.73  28.0     51501.38    12\n",
       "9997       0      1                     55.60  39.0     38067.08    11\n",
       "9998       0      4                     46.61  50.0     43974.49     7\n",
       "\n",
       "[9785 rows x 6 columns]"
      ]
     },
     "execution_count": 105,
     "metadata": {},
     "output_type": "execute_result"
    }
   ],
   "source": [
    "DataForML"
   ]
  },
  {
   "cell_type": "code",
   "execution_count": 106,
   "id": "7580f44d-cc70-4dbf-ae33-7781a19b09be",
   "metadata": {},
   "outputs": [
    {
     "data": {
      "text/html": [
       "<div>\n",
       "<style scoped>\n",
       "    .dataframe tbody tr th:only-of-type {\n",
       "        vertical-align: middle;\n",
       "    }\n",
       "\n",
       "    .dataframe tbody tr th {\n",
       "        vertical-align: top;\n",
       "    }\n",
       "\n",
       "    .dataframe thead th {\n",
       "        text-align: right;\n",
       "    }\n",
       "</style>\n",
       "<table border=\"1\" class=\"dataframe\">\n",
       "  <thead>\n",
       "    <tr style=\"text-align: right;\">\n",
       "      <th></th>\n",
       "      <th>Gender</th>\n",
       "      <th>Month</th>\n",
       "      <th>Daily Time Spent on Site</th>\n",
       "      <th>Age</th>\n",
       "      <th>Area Income</th>\n",
       "      <th>Hour</th>\n",
       "      <th>Clicked on Ad</th>\n",
       "    </tr>\n",
       "  </thead>\n",
       "  <tbody>\n",
       "    <tr>\n",
       "      <th>0</th>\n",
       "      <td>1</td>\n",
       "      <td>6</td>\n",
       "      <td>62.26</td>\n",
       "      <td>32.0</td>\n",
       "      <td>69481.85</td>\n",
       "      <td>21</td>\n",
       "      <td>0</td>\n",
       "    </tr>\n",
       "    <tr>\n",
       "      <th>1</th>\n",
       "      <td>1</td>\n",
       "      <td>1</td>\n",
       "      <td>41.73</td>\n",
       "      <td>31.0</td>\n",
       "      <td>61840.26</td>\n",
       "      <td>17</td>\n",
       "      <td>0</td>\n",
       "    </tr>\n",
       "    <tr>\n",
       "      <th>2</th>\n",
       "      <td>0</td>\n",
       "      <td>6</td>\n",
       "      <td>44.40</td>\n",
       "      <td>30.0</td>\n",
       "      <td>57877.15</td>\n",
       "      <td>10</td>\n",
       "      <td>0</td>\n",
       "    </tr>\n",
       "    <tr>\n",
       "      <th>3</th>\n",
       "      <td>0</td>\n",
       "      <td>6</td>\n",
       "      <td>59.88</td>\n",
       "      <td>28.0</td>\n",
       "      <td>56180.93</td>\n",
       "      <td>14</td>\n",
       "      <td>0</td>\n",
       "    </tr>\n",
       "    <tr>\n",
       "      <th>4</th>\n",
       "      <td>0</td>\n",
       "      <td>7</td>\n",
       "      <td>49.21</td>\n",
       "      <td>30.0</td>\n",
       "      <td>54324.73</td>\n",
       "      <td>10</td>\n",
       "      <td>1</td>\n",
       "    </tr>\n",
       "  </tbody>\n",
       "</table>\n",
       "</div>"
      ],
      "text/plain": [
       "   Gender  Month  Daily Time Spent on Site   Age  Area Income  Hour  \\\n",
       "0       1      6                     62.26  32.0     69481.85    21   \n",
       "1       1      1                     41.73  31.0     61840.26    17   \n",
       "2       0      6                     44.40  30.0     57877.15    10   \n",
       "3       0      6                     59.88  28.0     56180.93    14   \n",
       "4       0      7                     49.21  30.0     54324.73    10   \n",
       "\n",
       "   Clicked on Ad  \n",
       "0              0  \n",
       "1              0  \n",
       "2              0  \n",
       "3              0  \n",
       "4              1  "
      ]
     },
     "execution_count": 106,
     "metadata": {},
     "output_type": "execute_result"
    }
   ],
   "source": [
    "# Treating all the nominal variables at once using dummy variables\n",
    "DataForML_Numeric=pd.get_dummies(DataForML)\n",
    "# Adding Target Variable to the data\n",
    "DataForML_Numeric['Clicked on Ad']=AdData['Clicked on Ad']\n",
    "\n",
    "# Printing sample rows\n",
    "DataForML_Numeric.head()\n"
   ]
  },
  {
   "cell_type": "markdown",
   "id": "a6e6b5b9-0397-470f-b2d1-ec1ffb0ef19c",
   "metadata": {},
   "source": [
    "# Machine Learning: Splitting the data into Training and Testing sample\n",
    "We dont use the full data for creating the model. Some data is randomly selected and kept aside for checking how good the model is. This is known as Testing Data and the remaining data is called Training data on which the model is built. Typically 70% of data is used as Training data and the rest 30% is used as Tesing data."
   ]
  },
  {
   "cell_type": "code",
   "execution_count": 107,
   "id": "416a1fa9-801a-4596-aae1-bc89e64ba7e1",
   "metadata": {},
   "outputs": [
    {
     "data": {
      "text/plain": [
       "Index(['Gender', 'Month', 'Daily Time Spent on Site', 'Age', 'Area Income',\n",
       "       'Hour', 'Clicked on Ad'],\n",
       "      dtype='object')"
      ]
     },
     "execution_count": 107,
     "metadata": {},
     "output_type": "execute_result"
    }
   ],
   "source": [
    "# Printing all the column names for our reference\n",
    "DataForML_Numeric.columns"
   ]
  },
  {
   "cell_type": "code",
   "execution_count": 109,
   "id": "1601772b-b19a-46d6-a4a6-02a3c49dd0d0",
   "metadata": {},
   "outputs": [
    {
     "name": "stdout",
     "output_type": "stream",
     "text": [
      "(6849, 6)\n",
      "(6849,)\n",
      "(2936, 6)\n",
      "(2936,)\n"
     ]
    }
   ],
   "source": [
    "# Separate Target Variable and Predictor Variables\n",
    "TargetVariable='Clicked on Ad'\n",
    "Predictors=['Gender', 'Month', 'Daily Time Spent on Site', 'Age', 'Area Income',\n",
    "       'Hour']\n",
    "\n",
    "\n",
    "X=DataForML_Numeric[Predictors].values\n",
    "y=DataForML_Numeric[TargetVariable].values\n",
    "\n",
    "# Split the data into training and testing set\n",
    "from sklearn.model_selection import train_test_split\n",
    "\n",
    "X_train, X_test, y_train, y_test = train_test_split(X, y, test_size=0.30, random_state=41)\n",
    "\n",
    "# Quick check on the shapes of train and test\n",
    "print(X_train.shape)\n",
    "print(y_train.shape)\n",
    "print(X_test.shape)\n",
    "print(y_test.shape)"
   ]
  },
  {
   "cell_type": "code",
   "execution_count": 110,
   "id": "eb1f177b-f5ab-4cbc-9f45-4d96a7b880ec",
   "metadata": {},
   "outputs": [
    {
     "data": {
      "text/plain": [
       "array([[    0.  ,     5.  ,    49.21,    33.  , 75769.82,    21.  ],\n",
       "       [    1.  ,     2.  ,    61.22,    31.  , 59886.58,     9.  ],\n",
       "       [    0.  ,     6.  ,    55.6 ,    24.  , 52252.91,     6.  ],\n",
       "       [    0.  ,     1.  ,    88.12,    38.  , 51920.49,    19.  ],\n",
       "       [    1.  ,     4.  ,    82.07,    43.  , 73538.09,    21.  ],\n",
       "       [    0.  ,     7.  ,    65.65,    27.  , 55993.68,     4.  ],\n",
       "       [    0.  ,     2.  ,    59.59,    22.  , 48335.2 ,     6.  ],\n",
       "       [    1.  ,     6.  ,    51.87,    19.  , 33951.63,    21.  ],\n",
       "       [    0.  ,     2.  ,    59.22,    28.  , 53058.91,    20.  ],\n",
       "       [    0.  ,     6.  ,    71.84,    31.  , 56180.93,    14.  ]])"
      ]
     },
     "execution_count": 110,
     "metadata": {},
     "output_type": "execute_result"
    }
   ],
   "source": [
    "# Suppressing Scientific Notation in printing numpy arrays\n",
    "np.set_printoptions(suppress=True)\n",
    "X_train[0:10]"
   ]
  },
  {
   "cell_type": "code",
   "execution_count": 111,
   "id": "43735360-4639-4b26-8f1c-ae607af2c2c9",
   "metadata": {},
   "outputs": [
    {
     "data": {
      "text/plain": [
       "array([1, 0, 0, 1, 1, 0, 0, 0, 0, 0], dtype=int64)"
      ]
     },
     "execution_count": 111,
     "metadata": {},
     "output_type": "execute_result"
    }
   ],
   "source": [
    "y_train[0:10]"
   ]
  },
  {
   "cell_type": "markdown",
   "id": "0d1e5338-6ac0-4af0-99ac-c48b620b6fc8",
   "metadata": {},
   "source": [
    "# Standardization/Normalization of data\n",
    "You can choose not to run this step if you want to compare the resultant accuracy of this transformation with the accuracy of raw data.\n",
    "\n",
    "However, if you are using KNN or Neural Networks, then this step becomes necessary.\n",
    "\n"
   ]
  },
  {
   "cell_type": "code",
   "execution_count": 112,
   "id": "8d770220-6e0c-47a7-953a-b78607e88f51",
   "metadata": {},
   "outputs": [],
   "source": [
    "### Sandardization of data ###\n",
    "from sklearn.preprocessing import StandardScaler, MinMaxScaler\n",
    "# Choose either standardization or Normalization\n",
    "# On this data Min Max Normalization produced better results\n",
    "\n",
    "# Choose between standardization and MinMAx normalization\n",
    "#PredictorScaler=StandardScaler()\n",
    "PredictorScaler=MinMaxScaler()\n",
    "\n",
    "# Storing the fit object for later reference\n",
    "# Finding and storing Min and Max values for every column in X\n",
    "PredictorScalerFit=PredictorScaler.fit(X)\n",
    "\n",
    "# Generating the standardized values of X\n",
    "X=PredictorScalerFit.transform(X)\n",
    "\n",
    "# Split the data into training and testing set\n",
    "from sklearn.model_selection import train_test_split\n",
    "X_train, X_test, y_train, y_test = train_test_split(X, y, test_size=0.3, random_state=41)"
   ]
  },
  {
   "cell_type": "code",
   "execution_count": 114,
   "id": "dc9af5bb-49e1-4b37-84b0-30ecd32833fc",
   "metadata": {},
   "outputs": [
    {
     "name": "stdout",
     "output_type": "stream",
     "text": [
      "(6849, 6)\n",
      "(6849,)\n",
      "(2936, 6)\n",
      "(2936,)\n"
     ]
    }
   ],
   "source": [
    "# Sanity check for the sampled data\n",
    "print(X_train.shape)\n",
    "print(y_train.shape)\n",
    "print(X_test.shape)\n",
    "print(y_test.shape)"
   ]
  },
  {
   "cell_type": "code",
   "execution_count": 115,
   "id": "e851e551-7e30-45c1-8a20-f1a2d7bc78cb",
   "metadata": {},
   "outputs": [
    {
     "data": {
      "text/plain": [
       "array([[0.        , 0.66666667, 0.28456399, 0.34146341, 0.94547387,\n",
       "        0.91304348],\n",
       "       [1.        , 0.16666667, 0.49032037, 0.29268293, 0.70237234,\n",
       "        0.39130435],\n",
       "       [0.        , 0.83333333, 0.39403803, 0.12195122, 0.58553492,\n",
       "        0.26086957],\n",
       "       [0.        , 0.        , 0.95117355, 0.46341463, 0.58044705,\n",
       "        0.82608696],\n",
       "       [1.        , 0.5       , 0.84752441, 0.58536585, 0.91131604,\n",
       "        0.91304348],\n",
       "       [0.        , 1.        , 0.56621552, 0.19512195, 0.64278942,\n",
       "        0.17391304],\n",
       "       [0.        , 0.16666667, 0.46239507, 0.07317073, 0.52557226,\n",
       "        0.26086957],\n",
       "       [1.        , 0.83333333, 0.33013534, 0.        , 0.30542399,\n",
       "        0.91304348],\n",
       "       [0.        , 0.16666667, 0.45605619, 0.2195122 , 0.59787118,\n",
       "        0.86956522],\n",
       "       [0.        , 0.83333333, 0.67226315, 0.29268293, 0.64565538,\n",
       "        0.60869565]])"
      ]
     },
     "execution_count": 115,
     "metadata": {},
     "output_type": "execute_result"
    }
   ],
   "source": [
    "X_train[0:10]\n"
   ]
  },
  {
   "cell_type": "code",
   "execution_count": 116,
   "id": "10ce3500-0dd7-4a34-b4cb-85e38aff048d",
   "metadata": {},
   "outputs": [
    {
     "data": {
      "text/plain": [
       "array([1, 0, 0, 1, 1, 0, 0, 0, 0, 0], dtype=int64)"
      ]
     },
     "execution_count": 116,
     "metadata": {},
     "output_type": "execute_result"
    }
   ],
   "source": [
    "y_train[0:10]"
   ]
  },
  {
   "cell_type": "code",
   "execution_count": null,
   "id": "11864626-64bb-4739-97f1-00d41bf8c92b",
   "metadata": {},
   "outputs": [],
   "source": [
    "# LOGISTIC REGRESSION"
   ]
  },
  {
   "cell_type": "code",
   "execution_count": 117,
   "id": "bb8d9488-f9e5-46e3-a39d-a14e59ee78be",
   "metadata": {},
   "outputs": [
    {
     "name": "stdout",
     "output_type": "stream",
     "text": [
      "              precision    recall  f1-score   support\n",
      "\n",
      "           0       0.71      0.75      0.73      1517\n",
      "           1       0.71      0.68      0.69      1419\n",
      "\n",
      "    accuracy                           0.71      2936\n",
      "   macro avg       0.71      0.71      0.71      2936\n",
      "weighted avg       0.71      0.71      0.71      2936\n",
      "\n",
      "[[1132  385]\n",
      " [ 461  958]]\n",
      "Accuracy of the model on Testing Sample Data: 0.71\n",
      "\n",
      "Accuracy values for 10-fold Cross Validation:\n",
      " [0.71451605 0.71125161 0.73310649 0.72610311 0.70992023 0.7152815\n",
      " 0.73589115 0.7115333  0.73285298 0.71459627]\n",
      "\n",
      "Final Average Accuracy of the model: 0.72\n"
     ]
    }
   ],
   "source": [
    "# Logistic Regression\n",
    "from sklearn.linear_model import LogisticRegression\n",
    "# choose parameter Penalty='l1' or C=1\n",
    "# choose different values for solver 'newton-cg', 'lbfgs', 'liblinear', 'sag', 'saga'\n",
    "clf = LogisticRegression(C=5,penalty='l2', solver='newton-cg')\n",
    "\n",
    "# Printing all the parameters of logistic regression\n",
    "# print(clf)\n",
    "\n",
    "# Creating the model on Training Data\n",
    "LOG=clf.fit(X_train,y_train)\n",
    "prediction=LOG.predict(X_test)\n",
    "\n",
    "# Measuring accuracy on Testing Data\n",
    "from sklearn import metrics\n",
    "print(metrics.classification_report(y_test, prediction))\n",
    "print(metrics.confusion_matrix(y_test, prediction))\n",
    "\n",
    "# Printing the Overall Accuracy of the model\n",
    "F1_Score=metrics.f1_score(y_test, prediction, average='weighted')\n",
    "print('Accuracy of the model on Testing Sample Data:', round(F1_Score,2))\n",
    "\n",
    "# Importing cross validation function from sklearn\n",
    "from sklearn.model_selection import cross_val_score\n",
    "\n",
    "# Running 10-Fold Cross validation on a given algorithm\n",
    "# Passing full data X and y because the K-fold will split the data and automatically choose train/test\n",
    "Accuracy_Values=cross_val_score(LOG, X , y, cv=10, scoring='f1_weighted')\n",
    "print('\\nAccuracy values for 10-fold Cross Validation:\\n',Accuracy_Values)\n",
    "print('\\nFinal Average Accuracy of the model:', round(Accuracy_Values.mean(),2))"
   ]
  },
  {
   "cell_type": "markdown",
   "id": "d189dff2-eaa4-4eb7-b203-ed40049fec18",
   "metadata": {},
   "source": [
    "## Accuracy of the Multiple Linear Regression Model is 72%"
   ]
  },
  {
   "cell_type": "markdown",
   "id": "196a556f-81b3-4945-a6b8-9b3b35b819ac",
   "metadata": {},
   "source": [
    "# Decision Trees"
   ]
  },
  {
   "cell_type": "code",
   "execution_count": 118,
   "id": "d7e09874-6a23-4bd1-8933-3130b5f761e4",
   "metadata": {},
   "outputs": [
    {
     "name": "stdout",
     "output_type": "stream",
     "text": [
      "DecisionTreeClassifier(criterion='entropy', max_depth=3)\n",
      "              precision    recall  f1-score   support\n",
      "\n",
      "           0       0.73      0.64      0.68      1517\n",
      "           1       0.66      0.75      0.70      1419\n",
      "\n",
      "    accuracy                           0.69      2936\n",
      "   macro avg       0.69      0.69      0.69      2936\n",
      "weighted avg       0.70      0.69      0.69      2936\n",
      "\n",
      "[[ 973  544]\n",
      " [ 361 1058]]\n",
      "Accuracy of the model on Testing Sample Data: 0.69\n",
      "\n",
      "Accuracy values for 10-fold Cross Validation:\n",
      " [0.70293188 0.71301136 0.70236524 0.70369035 0.70972863 0.71882008\n",
      " 0.70630487 0.70686833 0.73417802 0.72903234]\n",
      "\n",
      "Final Average Accuracy of the model: 0.71\n"
     ]
    },
    {
     "data": {
      "image/png": "[encoded data removed]",
      "text/plain": [
       "<Figure size 640x480 with 1 Axes>"
      ]
     },
     "metadata": {},
     "output_type": "display_data"
    }
   ],
   "source": [
    "#Decision Trees\n",
    "from sklearn import tree\n",
    "#choose from different tunable hyper parameters\n",
    "clf = tree.DecisionTreeClassifier(max_depth=3,criterion='entropy')\n",
    "\n",
    "# Printing all the parameters of Decision Trees\n",
    "print(clf)\n",
    "\n",
    "# Creating the model on Training Data\n",
    "DTree=clf.fit(X_train,y_train)\n",
    "prediction=DTree.predict(X_test)\n",
    "\n",
    "# Measuring accuracy on Testing Data\n",
    "from sklearn import metrics\n",
    "print(metrics.classification_report(y_test, prediction))\n",
    "print(metrics.confusion_matrix(y_test, prediction))\n",
    "\n",
    "# Printing the Overall Accuracy of the model\n",
    "F1_Score=metrics.f1_score(y_test, prediction, average='weighted')\n",
    "print('Accuracy of the model on Testing Sample Data:', round(F1_Score,2))\n",
    "\n",
    "# Plotting the feature importance for Top 10 most important columns\n",
    "%matplotlib inline\n",
    "feature_importances = pd.Series(DTree.feature_importances_, index=Predictors)\n",
    "feature_importances.nlargest(10).plot(kind='barh')\n",
    "\n",
    "# Importing cross validation function from sklearn\n",
    "from sklearn.model_selection import cross_val_score\n",
    "\n",
    "# Running 10-Fold Cross validation on a given algorithm\n",
    "# Passing full data X and y because the K-fold will split the data and automatically choose train/test\n",
    "Accuracy_Values=cross_val_score(DTree, X , y, cv=10, scoring='f1_weighted')\n",
    "print('\\nAccuracy values for 10-fold Cross Validation:\\n',Accuracy_Values)\n",
    "print('\\nFinal Average Accuracy of the model:', round(Accuracy_Values.mean(),2))"
   ]
  },
  {
   "cell_type": "code",
   "execution_count": null,
   "id": "9b305ce1-4235-4c6f-8f73-fee4c2cfba7c",
   "metadata": {},
   "outputs": [],
   "source": [
    "Accuracy is higher in Logistic Regression model(72%) than Decission Tree model(71%). So we will take Linear Logistic Regression model. Morever, Age, Hour and Month are the top three click through rate predictor."
   ]
  },
  {
   "cell_type": "markdown",
   "id": "fd4094a3-e331-4db3-b7ca-6411043f7ec4",
   "metadata": {},
   "source": [
    "### Individual predictions"
   ]
  },
  {
   "cell_type": "code",
   "execution_count": 119,
   "id": "8a4faa1c-7662-4bce-82fc-bd2a27daf42b",
   "metadata": {},
   "outputs": [
    {
     "data": {
      "text/html": [
       "<div>\n",
       "<style scoped>\n",
       "    .dataframe tbody tr th:only-of-type {\n",
       "        vertical-align: middle;\n",
       "    }\n",
       "\n",
       "    .dataframe tbody tr th {\n",
       "        vertical-align: top;\n",
       "    }\n",
       "\n",
       "    .dataframe thead th {\n",
       "        text-align: right;\n",
       "    }\n",
       "</style>\n",
       "<table border=\"1\" class=\"dataframe\">\n",
       "  <thead>\n",
       "    <tr style=\"text-align: right;\">\n",
       "      <th></th>\n",
       "      <th>Gender</th>\n",
       "      <th>Month</th>\n",
       "      <th>Daily Time Spent on Site</th>\n",
       "      <th>Age</th>\n",
       "      <th>Area Income</th>\n",
       "      <th>Hour</th>\n",
       "    </tr>\n",
       "  </thead>\n",
       "  <tbody>\n",
       "    <tr>\n",
       "      <th>0</th>\n",
       "      <td>1</td>\n",
       "      <td>6</td>\n",
       "      <td>62.26</td>\n",
       "      <td>32.0</td>\n",
       "      <td>69481.85</td>\n",
       "      <td>21</td>\n",
       "    </tr>\n",
       "    <tr>\n",
       "      <th>1</th>\n",
       "      <td>1</td>\n",
       "      <td>1</td>\n",
       "      <td>41.73</td>\n",
       "      <td>31.0</td>\n",
       "      <td>61840.26</td>\n",
       "      <td>17</td>\n",
       "    </tr>\n",
       "    <tr>\n",
       "      <th>2</th>\n",
       "      <td>0</td>\n",
       "      <td>6</td>\n",
       "      <td>44.40</td>\n",
       "      <td>30.0</td>\n",
       "      <td>57877.15</td>\n",
       "      <td>10</td>\n",
       "    </tr>\n",
       "    <tr>\n",
       "      <th>3</th>\n",
       "      <td>0</td>\n",
       "      <td>6</td>\n",
       "      <td>59.88</td>\n",
       "      <td>28.0</td>\n",
       "      <td>56180.93</td>\n",
       "      <td>14</td>\n",
       "    </tr>\n",
       "    <tr>\n",
       "      <th>4</th>\n",
       "      <td>0</td>\n",
       "      <td>7</td>\n",
       "      <td>49.21</td>\n",
       "      <td>30.0</td>\n",
       "      <td>54324.73</td>\n",
       "      <td>10</td>\n",
       "    </tr>\n",
       "  </tbody>\n",
       "</table>\n",
       "</div>"
      ],
      "text/plain": [
       "   Gender  Month  Daily Time Spent on Site   Age  Area Income  Hour\n",
       "0       1      6                     62.26  32.0     69481.85    21\n",
       "1       1      1                     41.73  31.0     61840.26    17\n",
       "2       0      6                     44.40  30.0     57877.15    10\n",
       "3       0      6                     59.88  28.0     56180.93    14\n",
       "4       0      7                     49.21  30.0     54324.73    10"
      ]
     },
     "execution_count": 119,
     "metadata": {},
     "output_type": "execute_result"
    }
   ],
   "source": [
    "DataForML.head()"
   ]
  },
  {
   "cell_type": "code",
   "execution_count": 120,
   "id": "06ac37e6-b894-43be-bba2-f20328e87d6b",
   "metadata": {},
   "outputs": [
    {
     "data": {
      "text/plain": [
       "['Gender', 'Month', 'Daily Time Spent on Site', 'Age', 'Area Income', 'Hour']"
      ]
     },
     "execution_count": 120,
     "metadata": {},
     "output_type": "execute_result"
    }
   ],
   "source": [
    "Predictors"
   ]
  },
  {
   "cell_type": "code",
   "execution_count": 122,
   "id": "5a1a98c4-0d65-4a36-aa02-b7e291246560",
   "metadata": {},
   "outputs": [
    {
     "data": {
      "text/html": [
       "<div>\n",
       "<style scoped>\n",
       "    .dataframe tbody tr th:only-of-type {\n",
       "        vertical-align: middle;\n",
       "    }\n",
       "\n",
       "    .dataframe tbody tr th {\n",
       "        vertical-align: top;\n",
       "    }\n",
       "\n",
       "    .dataframe thead th {\n",
       "        text-align: right;\n",
       "    }\n",
       "</style>\n",
       "<table border=\"1\" class=\"dataframe\">\n",
       "  <thead>\n",
       "    <tr style=\"text-align: right;\">\n",
       "      <th></th>\n",
       "      <th>Gender</th>\n",
       "      <th>Month</th>\n",
       "      <th>Daily Time Spent on Site</th>\n",
       "      <th>Age</th>\n",
       "      <th>Area Income</th>\n",
       "      <th>Hour</th>\n",
       "    </tr>\n",
       "  </thead>\n",
       "  <tbody>\n",
       "    <tr>\n",
       "      <th>0</th>\n",
       "      <td>1</td>\n",
       "      <td>5</td>\n",
       "      <td>67</td>\n",
       "      <td>31.0</td>\n",
       "      <td>58312.05</td>\n",
       "      <td>19</td>\n",
       "    </tr>\n",
       "    <tr>\n",
       "      <th>1</th>\n",
       "      <td>0</td>\n",
       "      <td>3</td>\n",
       "      <td>56</td>\n",
       "      <td>31.0</td>\n",
       "      <td>68312.85</td>\n",
       "      <td>16</td>\n",
       "    </tr>\n",
       "  </tbody>\n",
       "</table>\n",
       "</div>"
      ],
      "text/plain": [
       "   Gender  Month  Daily Time Spent on Site   Age  Area Income  Hour\n",
       "0       1      5                        67  31.0     58312.05    19\n",
       "1       0      3                        56  31.0     68312.85    16"
      ]
     },
     "execution_count": 122,
     "metadata": {},
     "output_type": "execute_result"
    }
   ],
   "source": [
    "# Creating some new data rows\n",
    "NewData=pd.DataFrame(data=[[1,5,67,31.0,58312.05,19],\n",
    "                           [0,3,56,31.0,68312.85,16]]\n",
    "                           , columns=Predictors)\n",
    "NewData"
   ]
  },
  {
   "cell_type": "code",
   "execution_count": 123,
   "id": "1ff847e8-92b7-4336-a721-65eff7d0643e",
   "metadata": {},
   "outputs": [
    {
     "data": {
      "text/plain": [
       "array([[    1.  ,     5.  ,    67.  ,    31.  , 58312.05,    19.  ],\n",
       "       [    0.  ,     3.  ,    56.  ,    31.  , 68312.85,    16.  ]])"
      ]
     },
     "execution_count": 123,
     "metadata": {},
     "output_type": "execute_result"
    }
   ],
   "source": [
    "new_X=NewData.values\n",
    "new_X"
   ]
  },
  {
   "cell_type": "code",
   "execution_count": 124,
   "id": "546c7a6f-378b-458c-9c16-183346712fbf",
   "metadata": {},
   "outputs": [
    {
     "data": {
      "text/plain": [
       "array([[1.        , 0.66666667, 0.58934384, 0.29268293, 0.67827331,\n",
       "        0.82608696],\n",
       "       [0.        , 0.33333333, 0.40089087, 0.29268293, 0.83134093,\n",
       "        0.69565217]])"
      ]
     },
     "execution_count": 124,
     "metadata": {},
     "output_type": "execute_result"
    }
   ],
   "source": [
    "# Making sure the new data is also Normalized using the same normalization PredictorScalerFit\n",
    "new_X=PredictorScalerFit.transform(new_X)\n",
    "new_X"
   ]
  },
  {
   "cell_type": "code",
   "execution_count": 125,
   "id": "d22c5987-6017-482f-a9e4-02aa39b88395",
   "metadata": {},
   "outputs": [
    {
     "data": {
      "text/plain": [
       "array([0, 0], dtype=int64)"
      ]
     },
     "execution_count": 125,
     "metadata": {},
     "output_type": "execute_result"
    }
   ],
   "source": [
    "DTree.predict(new_X)"
   ]
  },
  {
   "cell_type": "code",
   "execution_count": 126,
   "id": "67057643-dd8e-47c8-9d23-9956d3d62f48",
   "metadata": {},
   "outputs": [],
   "source": [
    "def GenerateClickPred(inpData):\n",
    "    new_X=inpData.values\n",
    "    # Making sure the new data is also Normalized using the same normalization PredictorScalerFit\n",
    "    new_X=PredictorScalerFit.transform(new_X)\n",
    "    pred=DTree.predict(new_X)\n",
    "    inpData['Prediction']=pred\n",
    "    return(inpData)"
   ]
  },
  {
   "cell_type": "code",
   "execution_count": 127,
   "id": "4e7c3afb-cb9c-41b2-87f2-ac0ff0e35115",
   "metadata": {},
   "outputs": [
    {
     "data": {
      "text/html": [
       "<div>\n",
       "<style scoped>\n",
       "    .dataframe tbody tr th:only-of-type {\n",
       "        vertical-align: middle;\n",
       "    }\n",
       "\n",
       "    .dataframe tbody tr th {\n",
       "        vertical-align: top;\n",
       "    }\n",
       "\n",
       "    .dataframe thead th {\n",
       "        text-align: right;\n",
       "    }\n",
       "</style>\n",
       "<table border=\"1\" class=\"dataframe\">\n",
       "  <thead>\n",
       "    <tr style=\"text-align: right;\">\n",
       "      <th></th>\n",
       "      <th>Gender</th>\n",
       "      <th>Month</th>\n",
       "      <th>Daily Time Spent on Site</th>\n",
       "      <th>Age</th>\n",
       "      <th>Area Income</th>\n",
       "      <th>Hour</th>\n",
       "      <th>Prediction</th>\n",
       "    </tr>\n",
       "  </thead>\n",
       "  <tbody>\n",
       "    <tr>\n",
       "      <th>0</th>\n",
       "      <td>1</td>\n",
       "      <td>5</td>\n",
       "      <td>67</td>\n",
       "      <td>31.0</td>\n",
       "      <td>58312.05</td>\n",
       "      <td>19</td>\n",
       "      <td>0</td>\n",
       "    </tr>\n",
       "    <tr>\n",
       "      <th>1</th>\n",
       "      <td>0</td>\n",
       "      <td>3</td>\n",
       "      <td>56</td>\n",
       "      <td>31.0</td>\n",
       "      <td>68312.85</td>\n",
       "      <td>16</td>\n",
       "      <td>0</td>\n",
       "    </tr>\n",
       "  </tbody>\n",
       "</table>\n",
       "</div>"
      ],
      "text/plain": [
       "   Gender  Month  Daily Time Spent on Site   Age  Area Income  Hour  \\\n",
       "0       1      5                        67  31.0     58312.05    19   \n",
       "1       0      3                        56  31.0     68312.85    16   \n",
       "\n",
       "   Prediction  \n",
       "0           0  \n",
       "1           0  "
      ]
     },
     "execution_count": 127,
     "metadata": {},
     "output_type": "execute_result"
    }
   ],
   "source": [
    "# Calling the function with new input\n",
    "PredData=GenerateClickPred(inpData=NewData)\n",
    "PredData"
   ]
  },
  {
   "cell_type": "code",
   "execution_count": 128,
   "id": "a75ff388-66a6-4322-ab47-0a1295686c67",
   "metadata": {},
   "outputs": [],
   "source": [
    "# Saving the prediction data as a file\n",
    "PredData.to_csv('PredData.csv')"
   ]
  },
  {
   "cell_type": "code",
   "execution_count": 129,
   "id": "018c4a1f-d482-4642-b4ef-04065de1e464",
   "metadata": {},
   "outputs": [],
   "source": [
    "# Adding graphviz path to the PATH env variable\n",
    "# Try to find \"dot.exe\" in your system and provide the path of that folder\n",
    "import os\n",
    "os.environ[\"PATH\"] += os.pathsep + 'C:/anac3/Library/bin'"
   ]
  },
  {
   "cell_type": "code",
   "execution_count": 130,
   "id": "259636cb-1fb8-4598-a2db-6cce24679655",
   "metadata": {},
   "outputs": [
    {
     "name": "stdout",
     "output_type": "stream",
     "text": [
      "digraph Tree {\n",
      "node [shape=box, fontname=\"helvetica\"] ;\n",
      "edge [fontname=\"helvetica\"] ;\n",
      "0 [label=\"Age <= 0.524\\nentropy = 1.0\\nsamples = 6849\\nvalue = [3487, 3362]\\nclass = 0\"] ;\n",
      "1 [label=\"Age <= 0.305\\nentropy = 0.936\\nsamples = 4931\\nvalue = [3196, 1735]\\nclass = 0\"] ;\n",
      "0 -> 1 [labeldistance=2.5, labelangle=45, headlabel=\"True\"] ;\n",
      "2 [label=\"Hour <= 0.587\\nentropy = 0.804\\nsamples = 2402\\nvalue = [1813, 589]\\nclass = 0\"] ;\n",
      "1 -> 2 ;\n",
      "3 [label=\"entropy = 0.723\\nsamples = 1301\\nvalue = [1040, 261]\\nclass = 0\"] ;\n",
      "2 -> 3 ;\n",
      "4 [label=\"entropy = 0.879\\nsamples = 1101\\nvalue = [773, 328]\\nclass = 0\"] ;\n",
      "2 -> 4 ;\n",
      "5 [label=\"Hour <= 0.239\\nentropy = 0.994\\nsamples = 2529\\nvalue = [1383, 1146]\\nclass = 0\"] ;\n",
      "1 -> 5 ;\n",
      "6 [label=\"entropy = 0.861\\nsamples = 676\\nvalue = [484, 192]\\nclass = 0\"] ;\n",
      "5 -> 6 ;\n",
      "7 [label=\"entropy = 0.999\\nsamples = 1853\\nvalue = [899, 954]\\nclass = 1\"] ;\n",
      "5 -> 7 ;\n",
      "8 [label=\"Month <= 0.417\\nentropy = 0.614\\nsamples = 1918\\nvalue = [291, 1627]\\nclass = 1\"] ;\n",
      "0 -> 8 [labeldistance=2.5, labelangle=-45, headlabel=\"False\"] ;\n",
      "9 [label=\"Age <= 0.573\\nentropy = 0.759\\nsamples = 720\\nvalue = [158, 562]\\nclass = 1\"] ;\n",
      "8 -> 9 ;\n",
      "10 [label=\"entropy = 0.981\\nsamples = 86\\nvalue = [36, 50]\\nclass = 1\"] ;\n",
      "9 -> 10 ;\n",
      "11 [label=\"entropy = 0.707\\nsamples = 634\\nvalue = [122, 512]\\nclass = 1\"] ;\n",
      "9 -> 11 ;\n",
      "12 [label=\"Month <= 0.75\\nentropy = 0.503\\nsamples = 1198\\nvalue = [133, 1065]\\nclass = 1\"] ;\n",
      "8 -> 12 ;\n",
      "13 [label=\"entropy = 0.367\\nsamples = 839\\nvalue = [59, 780]\\nclass = 1\"] ;\n",
      "12 -> 13 ;\n",
      "14 [label=\"entropy = 0.734\\nsamples = 359\\nvalue = [74, 285]\\nclass = 1\"] ;\n",
      "12 -> 14 ;\n",
      "}\n"
     ]
    },
    {
     "data": {
      "image/png": "[encoded data removed]",
      "text/plain": [
       "<IPython.core.display.Image object>"
      ]
     },
     "execution_count": 130,
     "metadata": {
      "image/png": {
       "height": 1500,
       "width": 1500
      }
     },
     "output_type": "execute_result"
    }
   ],
   "source": [
    "# Load libraries\n",
    "from IPython.display import Image\n",
    "from sklearn import tree\n",
    "import pydotplus\n",
    "\n",
    "# Create DOT data\n",
    "dot_data = tree.export_graphviz(DTree, out_file=None, \n",
    "                                feature_names=Predictors, class_names=['0','1'])\n",
    "# printing the rules\n",
    "print(dot_data)\n",
    "\n",
    "# Draw graph\n",
    "graph = pydotplus.graph_from_dot_data(dot_data)\n",
    "\n",
    "# Show graph\n",
    "Image(graph.create_png(), width=1500,height=1500)\n",
    "# Double click on the graph to zoom in"
   ]
  },
  {
   "cell_type": "code",
   "execution_count": null,
   "id": "b0e181bf-e144-4275-9b59-eed8a9bcfa16",
   "metadata": {},
   "outputs": [],
   "source": []
  }
 ],
 "metadata": {
  "kernelspec": {
   "display_name": "Python 3 (ipykernel)",
   "language": "python",
   "name": "python3"
  },
  "language_info": {
   "codemirror_mode": {
    "name": "ipython",
    "version": 3
   },
   "file_extension": ".py",
   "mimetype": "text/x-python",
   "name": "python",
   "nbconvert_exporter": "python",
   "pygments_lexer": "ipython3",
   "version": "3.11.7"
  }
 },
 "nbformat": 4,
 "nbformat_minor": 5
}
